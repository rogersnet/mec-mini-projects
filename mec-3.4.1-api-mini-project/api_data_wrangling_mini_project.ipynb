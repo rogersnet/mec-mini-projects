{
  "cells": [
    {
      "cell_type": "markdown",
      "metadata": {
        "id": "view-in-github",
        "colab_type": "text"
      },
      "source": [
        "<a href=\"https://colab.research.google.com/github/rogersnet/mec-mini-projects/blob/master/mec-3.4.1-api-mini-project/api_data_wrangling_mini_project.ipynb\" target=\"_parent\"><img src=\"https://colab.research.google.com/assets/colab-badge.svg\" alt=\"Open In Colab\"/></a>"
      ]
    },
    {
      "cell_type": "markdown",
      "source": [
        "This exercise will require you to pull some data from https://data.nasdaq.com/ (formerly Quandl API)."
      ],
      "metadata": {
        "id": "ae9wAzUF5V_p"
      }
    },
    {
      "cell_type": "markdown",
      "source": [
        "As a first step, you will need to register a free account on the https://data.nasdaq.com/ website."
      ],
      "metadata": {
        "id": "74J7Dyma5V_s"
      }
    },
    {
      "cell_type": "markdown",
      "source": [
        "After you register, you will be provided with a unique API key, that you should store:\n",
        "\n",
        "*Note*: Use a `.env` file and put your key in there and `python-dotenv` to access it in this notebook. \n",
        "\n",
        "The code below uses a key that was used when generating this project but has since been deleted. Never submit your keys to source control. There is a `.env-example` file in this repository to illusrtate what you need. Copy that to a file called `.env` and use your own api key in that `.env` file. Make sure you also have a `.gitignore` file with a line for `.env` added to it. \n",
        "\n",
        "The standard Python gitignore is [here](https://github.com/github/gitignore/blob/master/Python.gitignore) you can just copy that. "
      ],
      "metadata": {
        "id": "ToOSPQlW5V_s"
      }
    },
    {
      "cell_type": "code",
      "execution_count": 1,
      "source": [
        "# get api key from your .env file\n",
        "import os\n",
        "from dotenv import load_dotenv  # if missing this module, simply run `pip install python-dotenv`\n",
        "\n",
        "load_dotenv()\n",
        "API_KEY = os.getenv('NASDAQ_API_KEY')\n",
        "\n",
        "print(API_KEY)"
      ],
      "outputs": [
        {
          "output_type": "stream",
          "name": "stdout",
          "text": [
            "myyfLzxDgtXsbMQjGucj\n"
          ]
        }
      ],
      "metadata": {
        "colab": {
          "base_uri": "https://localhost:8080/"
        },
        "id": "dBao3Nsl5V_t",
        "outputId": "5b123385-acd9-4cfb-e8a1-865aaabeeef8"
      }
    },
    {
      "cell_type": "markdown",
      "source": [
        "Nasdaq Data has a large number of data sources, but, unfortunately, most of them require a Premium subscription. Still, there are also a good number of free datasets."
      ],
      "metadata": {
        "id": "urpr6bz55V_v"
      }
    },
    {
      "cell_type": "markdown",
      "source": [
        "For this mini project, we will focus on equities data from the Frankfurt Stock Exhange (FSE), which is available for free. We'll try and analyze the stock prices of a company called Carl Zeiss Meditec, which manufactures tools for eye examinations, as well as medical lasers for laser eye surgery: https://www.zeiss.com/meditec/int/home.html. The company is listed under the stock ticker AFX_X."
      ],
      "metadata": {
        "id": "Zn11f6s45V_v"
      }
    },
    {
      "cell_type": "markdown",
      "source": [
        "You can find the detailed Nasdaq Data API instructions here: https://docs.data.nasdaq.com/docs/in-depth-usage"
      ],
      "metadata": {
        "id": "Uel2nR0Z5V_w"
      }
    },
    {
      "cell_type": "markdown",
      "source": [
        "While there is a dedicated Python package for connecting to the Nasdaq API, we would prefer that you use the *requests* package, which can be easily downloaded using *pip* or *conda*. You can find the documentation for the package here: http://docs.python-requests.org/en/master/ "
      ],
      "metadata": {
        "id": "FwzQs1o45V_x"
      }
    },
    {
      "cell_type": "markdown",
      "source": [
        "Finally, apart from the *requests* package, you are encouraged to not use any third party Python packages, such as *pandas*, and instead focus on what's available in the Python Standard Library (the *collections* module might come in handy: https://pymotw.com/3/collections/).\n",
        "Also, since you won't have access to DataFrames, you are encouraged to us Python's native data structures - preferably dictionaries, though some questions can also be answered using lists.\n",
        "You can read more on these data structures here: https://docs.python.org/3/tutorial/datastructures.html"
      ],
      "metadata": {
        "id": "Miz-2-Z65V_x"
      }
    },
    {
      "cell_type": "markdown",
      "source": [
        "Keep in mind that the JSON responses you will be getting from the API map almost one-to-one to Python's dictionaries. Unfortunately, they can be very nested, so make sure you read up on indexing dictionaries in the documentation provided above."
      ],
      "metadata": {
        "id": "Yr5QHow45V_y"
      }
    },
    {
      "cell_type": "code",
      "execution_count": 10,
      "source": [
        "# First, import the relevant modules\n",
        "import requests\n",
        "import json\n",
        "from collections import defaultdict"
      ],
      "outputs": [],
      "metadata": {
        "id": "ARBxDWAQ5V_z"
      }
    },
    {
      "cell_type": "markdown",
      "source": [
        "Note: API's can change a bit with each version, for this exercise it is reccomended to use the nasdaq api at `https://data.nasdaq.com/api/v3/`. This is the same api as what used to be quandl so `https://www.quandl.com/api/v3/` should work too.\n",
        "\n",
        "Hint: We are looking for the `AFX_X` data on the `datasets/FSE/` dataset."
      ],
      "metadata": {
        "id": "oTQgn1e45V_z"
      }
    },
    {
      "cell_type": "code",
      "execution_count": 12,
      "source": [
        "# Now, call the Nasdaq API and pull out a small sample of the data (only one day) to get a glimpse\n",
        "# into the JSON structure that will be returned\n",
        "params = {'api_key': API_KEY}\n",
        "url_path = 'https://data.nasdaq.com/api/v3/datasets/FSE/AFX_X.json'\n",
        "nasdaq_r = requests.get(url_path, params=params)"
      ],
      "outputs": [],
      "metadata": {
        "id": "dUqRxNHs5V_0"
      }
    },
    {
      "cell_type": "code",
      "execution_count": null,
      "source": [
        "# Inspect the JSON structure of the object you created, and take note of how nested it is,\n",
        "# as well as the overall structure\n",
        "nasdaq_r.json()"
      ],
      "outputs": [],
      "metadata": {
        "id": "Pefz5NNi5V_0"
      }
    },
    {
      "cell_type": "markdown",
      "source": [
        "These are your tasks for this mini project:\n",
        "\n",
        "1. Collect data from the Franfurt Stock Exchange, for the ticker AFX_X, for the whole year 2017 (keep in mind that the date format is YYYY-MM-DD).\n",
        "2. Convert the returned JSON object into a Python dictionary.\n",
        "3. Calculate what the highest and lowest opening prices were for the stock in this period.\n",
        "4. What was the largest change in any one day (based on High and Low price)?\n",
        "5. What was the largest change between any two days (based on Closing Price)?\n",
        "6. What was the average daily trading volume during this year?\n",
        "7. (Optional) What was the median trading volume during this year. (Note: you may need to implement your own function for calculating the median.)"
      ],
      "metadata": {
        "id": "G4RZqzdu5V_0"
      }
    },
    {
      "cell_type": "code",
      "execution_count": null,
      "source": [
        "# collect data for AFX_X for the year\n",
        "params = {'api_key': API_KEY, 'start_date': '2017-01-01', 'end_date':'2017-12-31'}\n",
        "afx_x_stock_data = requests.get(url_path, params=params)"
      ],
      "outputs": [],
      "metadata": {
        "id": "C88L2W9q5V_1"
      }
    },
    {
      "cell_type": "code",
      "execution_count": 20,
      "source": [
        "# convert the returned json into a dictionary\n",
        "afx_x_stock_data_dict = json.loads(afx_x_stock_data.text)"
      ],
      "outputs": [],
      "metadata": {
        "id": "ncjp_N_b5V_1"
      }
    },
    {
      "cell_type": "code",
      "source": [
        "opening_price_col_idx = afx_x_stock_data_dict['dataset']['column_names'].index('Open')\n",
        "\n",
        "# list of opening prices\n",
        "opening_prices_list = [x[opening_price_col_idx] for x in afx_x_stock_data_dict['dataset']['data'] if x[opening_price_col_idx] != None]\n",
        "opening_prices_list\n",
        "\n",
        "# highest opening price for the stock during this period\n",
        "highest_opening_price = max(opening_prices_list)\n",
        "print(\"Highest Opening price for the stock during this period : {} \".format(highest_opening_price))\n",
        "\n",
        "# lowest opening price for the stock during this period\n",
        "lowest_opening_price = min(opening_prices_list)\n",
        "print(\"Lowest Opening price for the stock during this period : {} \".format(lowest_opening_price))"
      ],
      "metadata": {
        "colab": {
          "base_uri": "https://localhost:8080/"
        },
        "id": "xpdhh5cNRNoI",
        "outputId": "e686771e-9244-4781-fc6c-8f26ed2c0d22"
      },
      "execution_count": 42,
      "outputs": [
        {
          "output_type": "stream",
          "name": "stdout",
          "text": [
            "Highest Opening price for the stock during this period : 53.11 \n",
            "Lowest Opening price for the stock during this period : 34.0 \n"
          ]
        }
      ]
    },
    {
      "cell_type": "code",
      "source": [
        "high_price_col_idx = afx_x_stock_data_dict['dataset']['column_names'].index('High')\n",
        "low_price_col_idx = afx_x_stock_data_dict['dataset']['column_names'].index('Low')\n",
        "\n",
        "# largest change in any one day\n",
        "largest_change_single_day = max([x[high_price_col_idx] - x[low_price_col_idx] for x in afx_x_stock_data_dict['dataset']['data']])\n",
        "print(\"Largest change in a single day : {:.2f}\".format(largest_change_single_day))"
      ],
      "metadata": {
        "colab": {
          "base_uri": "https://localhost:8080/"
        },
        "id": "ZMo46VcBhg-6",
        "outputId": "6e9bd4f0-9946-485f-de10-cbeb46606581"
      },
      "execution_count": 52,
      "outputs": [
        {
          "output_type": "stream",
          "name": "stdout",
          "text": [
            "Largest change in a single day : 2.81\n"
          ]
        }
      ]
    },
    {
      "cell_type": "code",
      "source": [
        "# function to compute the max difference between any two elements\n",
        "def max_diff(price_list):\n",
        "  max_d = price_list[1] - price_list[0]\n",
        "\n",
        "  for i in range(0, len(price_list)):\n",
        "    for j in range(i+1, len(price_list)):\n",
        "      if price_list[j] - price_list[i] > max_d:\n",
        "        max_d = price_list[j] - price_list[i]\n",
        "\n",
        "  return max_d\n",
        "\n",
        "closing_price_idx = afx_x_stock_data_dict['dataset']['column_names'].index('Close')\n",
        "closing_prices_list = [x[closing_price_idx] for x in afx_x_stock_data_dict['dataset']['data'] if x[closing_price_idx] != None]\n",
        "\n",
        "# Largest change between any two days (based on Closing Price)\n",
        "print('Largest change between any two days: {:.2f}'.format(max_diff(closing_prices_list)))"
      ],
      "metadata": {
        "colab": {
          "base_uri": "https://localhost:8080/"
        },
        "id": "agwlNPh7k96w",
        "outputId": "ef63acf6-eb25-4534-af72-74826f846da1"
      },
      "execution_count": 58,
      "outputs": [
        {
          "output_type": "stream",
          "name": "stdout",
          "text": [
            "Largest change between any two days: 5.98\n"
          ]
        }
      ]
    },
    {
      "cell_type": "code",
      "source": [
        "# function to compute the median of a list\n",
        "def median(lst):\n",
        "    sorted_lst = sorted(lst) \n",
        "    if len(sorted_lst) % 2 == 0:  \n",
        "        return (sorted_lst[len(sorted_lst) // 2] + sorted_lst[(len(sorted_lst) - 1) // 2]) / 2\n",
        "    else:\n",
        "        return sorted_lst[len(sorted_lst) // 2]\n",
        "\n",
        "traded_volume_idx = afx_x_stock_data_dict['dataset']['column_names'].index('Traded Volume')\n",
        "traded_volume_list = [x[traded_volume_idx] for x in afx_x_stock_data_dict['dataset']['data'] if x[traded_volume_idx] != None]\n",
        "\n",
        "# Average daily trading volume during the year\n",
        "print('Average trading volume for the year: {:.2f}'.format(sum(traded_volume_list)/len(traded_volume_list)))\n",
        "\n",
        "# Median trading volume during the year\n",
        "print('Median trading volumne for the year: {:.2f}'.format(median(traded_volume_list)))"
      ],
      "metadata": {
        "colab": {
          "base_uri": "https://localhost:8080/"
        },
        "id": "NpPBbzOTn1aS",
        "outputId": "9f2eab09-cb0a-49f7-d6e5-6d66b14b04b9"
      },
      "execution_count": 63,
      "outputs": [
        {
          "output_type": "stream",
          "name": "stdout",
          "text": [
            "Average trading volume for the year: 89124.34\n",
            "Median trading volumne for the year: 76286.00\n"
          ]
        }
      ]
    }
  ],
  "metadata": {
    "kernelspec": {
      "name": "python3",
      "display_name": "Python 3.7.9 64-bit ('springboard': conda)"
    },
    "language_info": {
      "codemirror_mode": {
        "name": "ipython",
        "version": 3
      },
      "file_extension": ".py",
      "mimetype": "text/x-python",
      "name": "python",
      "nbconvert_exporter": "python",
      "pygments_lexer": "ipython3",
      "version": "3.7.9"
    },
    "interpreter": {
      "hash": "4885f37acae9217c235118400878352aafa7b76e66df698a1f601374f86939a7"
    },
    "colab": {
      "name": "api_data_wrangling_mini_project.ipynb",
      "provenance": [],
      "collapsed_sections": [],
      "include_colab_link": true
    }
  },
  "nbformat": 4,
  "nbformat_minor": 0
}