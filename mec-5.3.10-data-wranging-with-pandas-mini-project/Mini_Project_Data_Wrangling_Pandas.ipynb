{
  "cells": [
    {
      "cell_type": "markdown",
      "metadata": {
        "id": "view-in-github",
        "colab_type": "text"
      },
      "source": [
        "<a href=\"https://colab.research.google.com/github/rogersnet/mec-mini-projects/blob/master/mec-5.3.10-data-wranging-with-pandas-mini-project/Mini_Project_Data_Wrangling_Pandas.ipynb\" target=\"_parent\"><img src=\"https://colab.research.google.com/assets/colab-badge.svg\" alt=\"Open In Colab\"/></a>"
      ]
    },
    {
      "cell_type": "markdown",
      "metadata": {
        "id": "yuky8mf1dLWA"
      },
      "source": [
        "# Mini-Project: Data Wrangling and Transformation with Pandas\n",
        "\n",
        "Working with tabular data is a necessity for anyone with enterprises having a majority of their data in relational databases and flat files. This mini-project is adopted from the excellent tutorial on pandas by Brandon Rhodes which you have watched earlier in the Data Wrangling Unit. In this mini-project, we will be looking at some interesting data based on movie data from the IMDB.\n",
        "\n",
        "This assignment should help you reinforce the concepts you learnt in the curriculum for Data Wrangling and sharpen your skills in using Pandas. Good Luck!"
      ]
    },
    {
      "cell_type": "markdown",
      "metadata": {
        "id": "8xxOchtpdLWD"
      },
      "source": [
        "### Please make sure you have one of the more recent versions of Pandas"
      ]
    },
    {
      "cell_type": "code",
      "execution_count": 1,
      "metadata": {
        "id": "iyBPoZXodLWE"
      },
      "outputs": [],
      "source": [
        "import pandas as pd\n",
        "import matplotlib.pyplot as plt\n",
        "\n",
        "%matplotlib inline"
      ]
    },
    {
      "cell_type": "code",
      "execution_count": 2,
      "metadata": {
        "id": "GuvBHyr1dLWF",
        "outputId": "0a2dc644-5f71-4c89-8ba5-29678f4ed578",
        "colab": {
          "base_uri": "https://localhost:8080/"
        }
      },
      "outputs": [
        {
          "output_type": "execute_result",
          "data": {
            "text/plain": [
              "'1.3.5'"
            ]
          },
          "metadata": {},
          "execution_count": 2
        }
      ],
      "source": [
        "pd.__version__"
      ]
    },
    {
      "cell_type": "markdown",
      "metadata": {
        "id": "BoDR1g3odLWG"
      },
      "source": [
        "## Taking a look at the Movies dataset\n",
        "This data shows the movies based on their title and the year of release"
      ]
    },
    {
      "cell_type": "code",
      "execution_count": 3,
      "metadata": {
        "id": "VvapfPn1dLWG",
        "outputId": "eac1706e-ff61-4a41-cafa-1af24e01c488",
        "colab": {
          "base_uri": "https://localhost:8080/"
        }
      },
      "outputs": [
        {
          "output_type": "stream",
          "name": "stdout",
          "text": [
            "<class 'pandas.core.frame.DataFrame'>\n",
            "RangeIndex: 244914 entries, 0 to 244913\n",
            "Data columns (total 2 columns):\n",
            " #   Column  Non-Null Count   Dtype \n",
            "---  ------  --------------   ----- \n",
            " 0   title   244914 non-null  object\n",
            " 1   year    244914 non-null  int64 \n",
            "dtypes: int64(1), object(1)\n",
            "memory usage: 3.7+ MB\n"
          ]
        }
      ],
      "source": [
        "movies = pd.read_csv('titles.csv')\n",
        "movies.info()"
      ]
    },
    {
      "cell_type": "code",
      "execution_count": 4,
      "metadata": {
        "id": "c19nwp0OdLWH",
        "outputId": "df2d9cf5-102d-43a9-f7e7-d7c60f915083",
        "colab": {
          "base_uri": "https://localhost:8080/",
          "height": 206
        }
      },
      "outputs": [
        {
          "output_type": "execute_result",
          "data": {
            "text/plain": [
              "                                          title  year\n",
              "0                        The Ticket to the Life  2009\n",
              "1  Parallel Worlds: A New Rock Music Experience  2016\n",
              "2                     Morita - La hija de Jesus  2008\n",
              "3                                           Gun  2017\n",
              "4                        Love or Nothing at All  2014"
            ],
            "text/html": [
              "<div>\n",
              "<style scoped>\n",
              "    .dataframe tbody tr th:only-of-type {\n",
              "        vertical-align: middle;\n",
              "    }\n",
              "\n",
              "    .dataframe tbody tr th {\n",
              "        vertical-align: top;\n",
              "    }\n",
              "\n",
              "    .dataframe thead th {\n",
              "        text-align: right;\n",
              "    }\n",
              "</style>\n",
              "<table border=\"1\" class=\"dataframe\">\n",
              "  <thead>\n",
              "    <tr style=\"text-align: right;\">\n",
              "      <th></th>\n",
              "      <th>title</th>\n",
              "      <th>year</th>\n",
              "    </tr>\n",
              "  </thead>\n",
              "  <tbody>\n",
              "    <tr>\n",
              "      <th>0</th>\n",
              "      <td>The Ticket to the Life</td>\n",
              "      <td>2009</td>\n",
              "    </tr>\n",
              "    <tr>\n",
              "      <th>1</th>\n",
              "      <td>Parallel Worlds: A New Rock Music Experience</td>\n",
              "      <td>2016</td>\n",
              "    </tr>\n",
              "    <tr>\n",
              "      <th>2</th>\n",
              "      <td>Morita - La hija de Jesus</td>\n",
              "      <td>2008</td>\n",
              "    </tr>\n",
              "    <tr>\n",
              "      <th>3</th>\n",
              "      <td>Gun</td>\n",
              "      <td>2017</td>\n",
              "    </tr>\n",
              "    <tr>\n",
              "      <th>4</th>\n",
              "      <td>Love or Nothing at All</td>\n",
              "      <td>2014</td>\n",
              "    </tr>\n",
              "  </tbody>\n",
              "</table>\n",
              "</div>"
            ]
          },
          "metadata": {},
          "execution_count": 4
        }
      ],
      "source": [
        "movies.head()"
      ]
    },
    {
      "cell_type": "markdown",
      "metadata": {
        "id": "2xHUM2NTdLWH"
      },
      "source": [
        "## Taking a look at the Cast dataset\n",
        "\n",
        "This data shows the cast (actors, actresses, supporting roles) for each movie\n",
        "\n",
        "- The attribute `n` basically tells the importance of the cast role, lower the number, more important the role.\n",
        "- Supporting cast usually don't have any value for `n`"
      ]
    },
    {
      "cell_type": "code",
      "execution_count": 5,
      "metadata": {
        "id": "OhdeJ-0YdLWI",
        "outputId": "b9894bb9-84d4-4ab2-ac76-127e69e2a2a6",
        "colab": {
          "base_uri": "https://localhost:8080/"
        }
      },
      "outputs": [
        {
          "output_type": "stream",
          "name": "stdout",
          "text": [
            "<class 'pandas.core.frame.DataFrame'>\n",
            "RangeIndex: 3786176 entries, 0 to 3786175\n",
            "Data columns (total 6 columns):\n",
            " #   Column     Dtype  \n",
            "---  ------     -----  \n",
            " 0   title      object \n",
            " 1   year       int64  \n",
            " 2   name       object \n",
            " 3   type       object \n",
            " 4   character  object \n",
            " 5   n          float64\n",
            "dtypes: float64(1), int64(1), object(4)\n",
            "memory usage: 173.3+ MB\n"
          ]
        }
      ],
      "source": [
        "cast = pd.read_csv('cast.csv.zip')\n",
        "cast.info()"
      ]
    },
    {
      "cell_type": "code",
      "execution_count": 6,
      "metadata": {
        "id": "ZsiVJeCNdLWJ",
        "outputId": "8e77eb49-5bee-47e4-fa7c-c17ede5dabf9",
        "colab": {
          "base_uri": "https://localhost:8080/",
          "height": 363
        }
      },
      "outputs": [
        {
          "output_type": "execute_result",
          "data": {
            "text/plain": [
              "                                               title  year  \\\n",
              "0                                     Closet Monster  2015   \n",
              "1                                    Suuri illusioni  1985   \n",
              "2                                Battle of the Sexes  2017   \n",
              "3                               Secret in Their Eyes  2015   \n",
              "4                                         Steve Jobs  2015   \n",
              "5                             Straight Outta Compton  2015   \n",
              "6                             Straight Outta Compton  2015   \n",
              "7                                     For Thy Love 2  2009   \n",
              "8  Lapis, Ballpen at Diploma, a True to Life Journey  2014   \n",
              "9                                       Desire (III)  2014   \n",
              "\n",
              "                        name   type                               character  \\\n",
              "0                   Buffy #1  actor                                 Buffy 4   \n",
              "1                     Homo $  actor                                  Guests   \n",
              "2                    $hutter  actor                         Bobby Riggs Fan   \n",
              "3                    $hutter  actor                         2002 Dodger Fan   \n",
              "4                    $hutter  actor                 1988 Opera House Patron   \n",
              "5                    $hutter  actor                             Club Patron   \n",
              "6                    $hutter  actor                                 Dopeman   \n",
              "7               Bee Moe $lim  actor                                  Thug 1   \n",
              "8  Jori ' Danilo' Jurado Jr.  actor                           Jaime (young)   \n",
              "9           Syaiful 'Ariffin  actor  Actor Playing Eteocles from 'Antigone'   \n",
              "\n",
              "      n  \n",
              "0  31.0  \n",
              "1  22.0  \n",
              "2  10.0  \n",
              "3   NaN  \n",
              "4   NaN  \n",
              "5   NaN  \n",
              "6   NaN  \n",
              "7   NaN  \n",
              "8   9.0  \n",
              "9   NaN  "
            ],
            "text/html": [
              "<div>\n",
              "<style scoped>\n",
              "    .dataframe tbody tr th:only-of-type {\n",
              "        vertical-align: middle;\n",
              "    }\n",
              "\n",
              "    .dataframe tbody tr th {\n",
              "        vertical-align: top;\n",
              "    }\n",
              "\n",
              "    .dataframe thead th {\n",
              "        text-align: right;\n",
              "    }\n",
              "</style>\n",
              "<table border=\"1\" class=\"dataframe\">\n",
              "  <thead>\n",
              "    <tr style=\"text-align: right;\">\n",
              "      <th></th>\n",
              "      <th>title</th>\n",
              "      <th>year</th>\n",
              "      <th>name</th>\n",
              "      <th>type</th>\n",
              "      <th>character</th>\n",
              "      <th>n</th>\n",
              "    </tr>\n",
              "  </thead>\n",
              "  <tbody>\n",
              "    <tr>\n",
              "      <th>0</th>\n",
              "      <td>Closet Monster</td>\n",
              "      <td>2015</td>\n",
              "      <td>Buffy #1</td>\n",
              "      <td>actor</td>\n",
              "      <td>Buffy 4</td>\n",
              "      <td>31.0</td>\n",
              "    </tr>\n",
              "    <tr>\n",
              "      <th>1</th>\n",
              "      <td>Suuri illusioni</td>\n",
              "      <td>1985</td>\n",
              "      <td>Homo $</td>\n",
              "      <td>actor</td>\n",
              "      <td>Guests</td>\n",
              "      <td>22.0</td>\n",
              "    </tr>\n",
              "    <tr>\n",
              "      <th>2</th>\n",
              "      <td>Battle of the Sexes</td>\n",
              "      <td>2017</td>\n",
              "      <td>$hutter</td>\n",
              "      <td>actor</td>\n",
              "      <td>Bobby Riggs Fan</td>\n",
              "      <td>10.0</td>\n",
              "    </tr>\n",
              "    <tr>\n",
              "      <th>3</th>\n",
              "      <td>Secret in Their Eyes</td>\n",
              "      <td>2015</td>\n",
              "      <td>$hutter</td>\n",
              "      <td>actor</td>\n",
              "      <td>2002 Dodger Fan</td>\n",
              "      <td>NaN</td>\n",
              "    </tr>\n",
              "    <tr>\n",
              "      <th>4</th>\n",
              "      <td>Steve Jobs</td>\n",
              "      <td>2015</td>\n",
              "      <td>$hutter</td>\n",
              "      <td>actor</td>\n",
              "      <td>1988 Opera House Patron</td>\n",
              "      <td>NaN</td>\n",
              "    </tr>\n",
              "    <tr>\n",
              "      <th>5</th>\n",
              "      <td>Straight Outta Compton</td>\n",
              "      <td>2015</td>\n",
              "      <td>$hutter</td>\n",
              "      <td>actor</td>\n",
              "      <td>Club Patron</td>\n",
              "      <td>NaN</td>\n",
              "    </tr>\n",
              "    <tr>\n",
              "      <th>6</th>\n",
              "      <td>Straight Outta Compton</td>\n",
              "      <td>2015</td>\n",
              "      <td>$hutter</td>\n",
              "      <td>actor</td>\n",
              "      <td>Dopeman</td>\n",
              "      <td>NaN</td>\n",
              "    </tr>\n",
              "    <tr>\n",
              "      <th>7</th>\n",
              "      <td>For Thy Love 2</td>\n",
              "      <td>2009</td>\n",
              "      <td>Bee Moe $lim</td>\n",
              "      <td>actor</td>\n",
              "      <td>Thug 1</td>\n",
              "      <td>NaN</td>\n",
              "    </tr>\n",
              "    <tr>\n",
              "      <th>8</th>\n",
              "      <td>Lapis, Ballpen at Diploma, a True to Life Journey</td>\n",
              "      <td>2014</td>\n",
              "      <td>Jori ' Danilo' Jurado Jr.</td>\n",
              "      <td>actor</td>\n",
              "      <td>Jaime (young)</td>\n",
              "      <td>9.0</td>\n",
              "    </tr>\n",
              "    <tr>\n",
              "      <th>9</th>\n",
              "      <td>Desire (III)</td>\n",
              "      <td>2014</td>\n",
              "      <td>Syaiful 'Ariffin</td>\n",
              "      <td>actor</td>\n",
              "      <td>Actor Playing Eteocles from 'Antigone'</td>\n",
              "      <td>NaN</td>\n",
              "    </tr>\n",
              "  </tbody>\n",
              "</table>\n",
              "</div>"
            ]
          },
          "metadata": {},
          "execution_count": 6
        }
      ],
      "source": [
        "cast.head(10)"
      ]
    },
    {
      "cell_type": "markdown",
      "metadata": {
        "id": "2N0KhhBsdLWJ"
      },
      "source": [
        "## Taking a look at the Release dataset\n",
        "\n",
        "This data shows details of when each movie was release in each country with the release date"
      ]
    },
    {
      "cell_type": "code",
      "execution_count": 7,
      "metadata": {
        "id": "JRYJXVTndLWK",
        "outputId": "2e8b65b1-49e3-4f24-8397-1ae229a2ac86",
        "colab": {
          "base_uri": "https://localhost:8080/"
        }
      },
      "outputs": [
        {
          "output_type": "stream",
          "name": "stdout",
          "text": [
            "<class 'pandas.core.frame.DataFrame'>\n",
            "RangeIndex: 479488 entries, 0 to 479487\n",
            "Data columns (total 4 columns):\n",
            " #   Column   Non-Null Count   Dtype         \n",
            "---  ------   --------------   -----         \n",
            " 0   title    479488 non-null  object        \n",
            " 1   year     479488 non-null  int64         \n",
            " 2   country  479488 non-null  object        \n",
            " 3   date     479488 non-null  datetime64[ns]\n",
            "dtypes: datetime64[ns](1), int64(1), object(2)\n",
            "memory usage: 14.6+ MB\n"
          ]
        }
      ],
      "source": [
        "release_dates = pd.read_csv('release_dates.csv', parse_dates=['date'], infer_datetime_format=True)\n",
        "release_dates.info()"
      ]
    },
    {
      "cell_type": "code",
      "execution_count": 8,
      "metadata": {
        "id": "Tu0jOr0ndLWK",
        "outputId": "4f1767ba-1bae-4e3d-dc45-3afd2b19f914",
        "colab": {
          "base_uri": "https://localhost:8080/",
          "height": 206
        }
      },
      "outputs": [
        {
          "output_type": "execute_result",
          "data": {
            "text/plain": [
              "                    title  year      country       date\n",
              "0   #73, Shaanthi Nivaasa  2007        India 2007-06-15\n",
              "1                   #BKKY  2016     Cambodia 2017-10-12\n",
              "2                 #Beings  2015      Romania 2015-01-29\n",
              "3               #Captured  2017          USA 2017-09-05\n",
              "4  #Ewankosau saranghaeyo  2015  Philippines 2015-01-21"
            ],
            "text/html": [
              "<div>\n",
              "<style scoped>\n",
              "    .dataframe tbody tr th:only-of-type {\n",
              "        vertical-align: middle;\n",
              "    }\n",
              "\n",
              "    .dataframe tbody tr th {\n",
              "        vertical-align: top;\n",
              "    }\n",
              "\n",
              "    .dataframe thead th {\n",
              "        text-align: right;\n",
              "    }\n",
              "</style>\n",
              "<table border=\"1\" class=\"dataframe\">\n",
              "  <thead>\n",
              "    <tr style=\"text-align: right;\">\n",
              "      <th></th>\n",
              "      <th>title</th>\n",
              "      <th>year</th>\n",
              "      <th>country</th>\n",
              "      <th>date</th>\n",
              "    </tr>\n",
              "  </thead>\n",
              "  <tbody>\n",
              "    <tr>\n",
              "      <th>0</th>\n",
              "      <td>#73, Shaanthi Nivaasa</td>\n",
              "      <td>2007</td>\n",
              "      <td>India</td>\n",
              "      <td>2007-06-15</td>\n",
              "    </tr>\n",
              "    <tr>\n",
              "      <th>1</th>\n",
              "      <td>#BKKY</td>\n",
              "      <td>2016</td>\n",
              "      <td>Cambodia</td>\n",
              "      <td>2017-10-12</td>\n",
              "    </tr>\n",
              "    <tr>\n",
              "      <th>2</th>\n",
              "      <td>#Beings</td>\n",
              "      <td>2015</td>\n",
              "      <td>Romania</td>\n",
              "      <td>2015-01-29</td>\n",
              "    </tr>\n",
              "    <tr>\n",
              "      <th>3</th>\n",
              "      <td>#Captured</td>\n",
              "      <td>2017</td>\n",
              "      <td>USA</td>\n",
              "      <td>2017-09-05</td>\n",
              "    </tr>\n",
              "    <tr>\n",
              "      <th>4</th>\n",
              "      <td>#Ewankosau saranghaeyo</td>\n",
              "      <td>2015</td>\n",
              "      <td>Philippines</td>\n",
              "      <td>2015-01-21</td>\n",
              "    </tr>\n",
              "  </tbody>\n",
              "</table>\n",
              "</div>"
            ]
          },
          "metadata": {},
          "execution_count": 8
        }
      ],
      "source": [
        "release_dates.head()"
      ]
    },
    {
      "cell_type": "markdown",
      "metadata": {
        "id": "4YEdJ9vPdLWK"
      },
      "source": [
        "# Section I - Basic Querying, Filtering and Transformations"
      ]
    },
    {
      "cell_type": "markdown",
      "metadata": {
        "id": "ce7qQXoodLWL"
      },
      "source": [
        "### What is the total number of movies?"
      ]
    },
    {
      "cell_type": "code",
      "execution_count": 9,
      "metadata": {
        "id": "Gn_03l21dLWL",
        "outputId": "dd8b385c-f928-4c00-8e2d-8255e071d769",
        "colab": {
          "base_uri": "https://localhost:8080/"
        }
      },
      "outputs": [
        {
          "output_type": "execute_result",
          "data": {
            "text/plain": [
              "244914"
            ]
          },
          "metadata": {},
          "execution_count": 9
        }
      ],
      "source": [
        "len(movies)"
      ]
    },
    {
      "cell_type": "markdown",
      "metadata": {
        "id": "geADtaQTdLWL"
      },
      "source": [
        "### List all Batman movies ever made"
      ]
    },
    {
      "cell_type": "code",
      "execution_count": 10,
      "metadata": {
        "id": "5pPYGhbPdLWM",
        "outputId": "b14f65fd-7ac5-4502-901c-1fe72d8c7a16",
        "colab": {
          "base_uri": "https://localhost:8080/",
          "height": 129
        }
      },
      "outputs": [
        {
          "output_type": "stream",
          "name": "stdout",
          "text": [
            "Total Batman Movies: 2\n"
          ]
        },
        {
          "output_type": "execute_result",
          "data": {
            "text/plain": [
              "         title  year\n",
              "52734   Batman  1943\n",
              "150621  Batman  1989"
            ],
            "text/html": [
              "<div>\n",
              "<style scoped>\n",
              "    .dataframe tbody tr th:only-of-type {\n",
              "        vertical-align: middle;\n",
              "    }\n",
              "\n",
              "    .dataframe tbody tr th {\n",
              "        vertical-align: top;\n",
              "    }\n",
              "\n",
              "    .dataframe thead th {\n",
              "        text-align: right;\n",
              "    }\n",
              "</style>\n",
              "<table border=\"1\" class=\"dataframe\">\n",
              "  <thead>\n",
              "    <tr style=\"text-align: right;\">\n",
              "      <th></th>\n",
              "      <th>title</th>\n",
              "      <th>year</th>\n",
              "    </tr>\n",
              "  </thead>\n",
              "  <tbody>\n",
              "    <tr>\n",
              "      <th>52734</th>\n",
              "      <td>Batman</td>\n",
              "      <td>1943</td>\n",
              "    </tr>\n",
              "    <tr>\n",
              "      <th>150621</th>\n",
              "      <td>Batman</td>\n",
              "      <td>1989</td>\n",
              "    </tr>\n",
              "  </tbody>\n",
              "</table>\n",
              "</div>"
            ]
          },
          "metadata": {},
          "execution_count": 10
        }
      ],
      "source": [
        "batman_df = movies[movies.title == 'Batman']\n",
        "print('Total Batman Movies:', len(batman_df))\n",
        "batman_df"
      ]
    },
    {
      "cell_type": "markdown",
      "metadata": {
        "id": "KyvW7PDCdLWM"
      },
      "source": [
        "### List all Batman movies ever made - the right approach"
      ]
    },
    {
      "cell_type": "code",
      "execution_count": 11,
      "metadata": {
        "id": "GNJ1C1QAdLWM",
        "outputId": "05913534-5080-46ac-f6bf-001c32ba52c0",
        "colab": {
          "base_uri": "https://localhost:8080/",
          "height": 380
        }
      },
      "outputs": [
        {
          "output_type": "stream",
          "name": "stdout",
          "text": [
            "Total Batman Movies: 35\n"
          ]
        },
        {
          "output_type": "execute_result",
          "data": {
            "text/plain": [
              "                                             title  year\n",
              "16813                              Batman: Anarchy  2016\n",
              "30236                               Batman Forever  1995\n",
              "31674                                Batman Untold  2010\n",
              "31711  Scooby-Doo & Batman: the Brave and the Bold  2018\n",
              "41881                  Batman the Rise of Red Hood  2018\n",
              "43484        Batman: Return of the Caped Crusaders  2016\n",
              "46333                               Batman & Robin  1997\n",
              "51811                              Batman Revealed  2012\n",
              "52734                                       Batman  1943\n",
              "56029                 Batman Beyond: Rising Knight  2014"
            ],
            "text/html": [
              "<div>\n",
              "<style scoped>\n",
              "    .dataframe tbody tr th:only-of-type {\n",
              "        vertical-align: middle;\n",
              "    }\n",
              "\n",
              "    .dataframe tbody tr th {\n",
              "        vertical-align: top;\n",
              "    }\n",
              "\n",
              "    .dataframe thead th {\n",
              "        text-align: right;\n",
              "    }\n",
              "</style>\n",
              "<table border=\"1\" class=\"dataframe\">\n",
              "  <thead>\n",
              "    <tr style=\"text-align: right;\">\n",
              "      <th></th>\n",
              "      <th>title</th>\n",
              "      <th>year</th>\n",
              "    </tr>\n",
              "  </thead>\n",
              "  <tbody>\n",
              "    <tr>\n",
              "      <th>16813</th>\n",
              "      <td>Batman: Anarchy</td>\n",
              "      <td>2016</td>\n",
              "    </tr>\n",
              "    <tr>\n",
              "      <th>30236</th>\n",
              "      <td>Batman Forever</td>\n",
              "      <td>1995</td>\n",
              "    </tr>\n",
              "    <tr>\n",
              "      <th>31674</th>\n",
              "      <td>Batman Untold</td>\n",
              "      <td>2010</td>\n",
              "    </tr>\n",
              "    <tr>\n",
              "      <th>31711</th>\n",
              "      <td>Scooby-Doo &amp; Batman: the Brave and the Bold</td>\n",
              "      <td>2018</td>\n",
              "    </tr>\n",
              "    <tr>\n",
              "      <th>41881</th>\n",
              "      <td>Batman the Rise of Red Hood</td>\n",
              "      <td>2018</td>\n",
              "    </tr>\n",
              "    <tr>\n",
              "      <th>43484</th>\n",
              "      <td>Batman: Return of the Caped Crusaders</td>\n",
              "      <td>2016</td>\n",
              "    </tr>\n",
              "    <tr>\n",
              "      <th>46333</th>\n",
              "      <td>Batman &amp; Robin</td>\n",
              "      <td>1997</td>\n",
              "    </tr>\n",
              "    <tr>\n",
              "      <th>51811</th>\n",
              "      <td>Batman Revealed</td>\n",
              "      <td>2012</td>\n",
              "    </tr>\n",
              "    <tr>\n",
              "      <th>52734</th>\n",
              "      <td>Batman</td>\n",
              "      <td>1943</td>\n",
              "    </tr>\n",
              "    <tr>\n",
              "      <th>56029</th>\n",
              "      <td>Batman Beyond: Rising Knight</td>\n",
              "      <td>2014</td>\n",
              "    </tr>\n",
              "  </tbody>\n",
              "</table>\n",
              "</div>"
            ]
          },
          "metadata": {},
          "execution_count": 11
        }
      ],
      "source": [
        "batman_df = movies[movies.title.str.contains('Batman', case=False)]\n",
        "print('Total Batman Movies:', len(batman_df))\n",
        "batman_df.head(10)"
      ]
    },
    {
      "cell_type": "markdown",
      "metadata": {
        "id": "WH-ylLl0dLWN"
      },
      "source": [
        "### Display the top 15 Batman movies in the order they were released"
      ]
    },
    {
      "cell_type": "code",
      "execution_count": 12,
      "metadata": {
        "id": "BQ3JTD7QdLWN",
        "outputId": "20969bfc-c9ea-4323-c628-1b532c84cc70",
        "colab": {
          "base_uri": "https://localhost:8080/",
          "height": 520
        }
      },
      "outputs": [
        {
          "output_type": "execute_result",
          "data": {
            "text/plain": [
              "                               title  year\n",
              "52734                         Batman  1943\n",
              "100056              Batman and Robin  1949\n",
              "161439                Batman Dracula  1964\n",
              "84327          Alyas Batman at Robin  1965\n",
              "68364                   James Batman  1966\n",
              "161527             Batman: The Movie  1966\n",
              "56159          Batman Fights Dracula  1967\n",
              "168504         Fight! Batman, Fight!  1973\n",
              "150621                        Batman  1989\n",
              "156239         Alyas Batman en Robin  1991\n",
              "156755                Batman Returns  1992\n",
              "63366   Batman: Mask of the Phantasm  1993\n",
              "30236                 Batman Forever  1995\n",
              "46333                 Batman & Robin  1997\n",
              "208220                 Batman Begins  2005"
            ],
            "text/html": [
              "<div>\n",
              "<style scoped>\n",
              "    .dataframe tbody tr th:only-of-type {\n",
              "        vertical-align: middle;\n",
              "    }\n",
              "\n",
              "    .dataframe tbody tr th {\n",
              "        vertical-align: top;\n",
              "    }\n",
              "\n",
              "    .dataframe thead th {\n",
              "        text-align: right;\n",
              "    }\n",
              "</style>\n",
              "<table border=\"1\" class=\"dataframe\">\n",
              "  <thead>\n",
              "    <tr style=\"text-align: right;\">\n",
              "      <th></th>\n",
              "      <th>title</th>\n",
              "      <th>year</th>\n",
              "    </tr>\n",
              "  </thead>\n",
              "  <tbody>\n",
              "    <tr>\n",
              "      <th>52734</th>\n",
              "      <td>Batman</td>\n",
              "      <td>1943</td>\n",
              "    </tr>\n",
              "    <tr>\n",
              "      <th>100056</th>\n",
              "      <td>Batman and Robin</td>\n",
              "      <td>1949</td>\n",
              "    </tr>\n",
              "    <tr>\n",
              "      <th>161439</th>\n",
              "      <td>Batman Dracula</td>\n",
              "      <td>1964</td>\n",
              "    </tr>\n",
              "    <tr>\n",
              "      <th>84327</th>\n",
              "      <td>Alyas Batman at Robin</td>\n",
              "      <td>1965</td>\n",
              "    </tr>\n",
              "    <tr>\n",
              "      <th>68364</th>\n",
              "      <td>James Batman</td>\n",
              "      <td>1966</td>\n",
              "    </tr>\n",
              "    <tr>\n",
              "      <th>161527</th>\n",
              "      <td>Batman: The Movie</td>\n",
              "      <td>1966</td>\n",
              "    </tr>\n",
              "    <tr>\n",
              "      <th>56159</th>\n",
              "      <td>Batman Fights Dracula</td>\n",
              "      <td>1967</td>\n",
              "    </tr>\n",
              "    <tr>\n",
              "      <th>168504</th>\n",
              "      <td>Fight! Batman, Fight!</td>\n",
              "      <td>1973</td>\n",
              "    </tr>\n",
              "    <tr>\n",
              "      <th>150621</th>\n",
              "      <td>Batman</td>\n",
              "      <td>1989</td>\n",
              "    </tr>\n",
              "    <tr>\n",
              "      <th>156239</th>\n",
              "      <td>Alyas Batman en Robin</td>\n",
              "      <td>1991</td>\n",
              "    </tr>\n",
              "    <tr>\n",
              "      <th>156755</th>\n",
              "      <td>Batman Returns</td>\n",
              "      <td>1992</td>\n",
              "    </tr>\n",
              "    <tr>\n",
              "      <th>63366</th>\n",
              "      <td>Batman: Mask of the Phantasm</td>\n",
              "      <td>1993</td>\n",
              "    </tr>\n",
              "    <tr>\n",
              "      <th>30236</th>\n",
              "      <td>Batman Forever</td>\n",
              "      <td>1995</td>\n",
              "    </tr>\n",
              "    <tr>\n",
              "      <th>46333</th>\n",
              "      <td>Batman &amp; Robin</td>\n",
              "      <td>1997</td>\n",
              "    </tr>\n",
              "    <tr>\n",
              "      <th>208220</th>\n",
              "      <td>Batman Begins</td>\n",
              "      <td>2005</td>\n",
              "    </tr>\n",
              "  </tbody>\n",
              "</table>\n",
              "</div>"
            ]
          },
          "metadata": {},
          "execution_count": 12
        }
      ],
      "source": [
        "batman_df.sort_values(by=['year'], ascending=True).iloc[:15]"
      ]
    },
    {
      "cell_type": "markdown",
      "metadata": {
        "id": "1L4j2pZGdLWN"
      },
      "source": [
        "### Section I - Q1 : List all the 'Harry Potter' movies from the most recent to the earliest"
      ]
    },
    {
      "cell_type": "code",
      "execution_count": 17,
      "metadata": {
        "id": "gaRKrTcFdLWN",
        "outputId": "0642372a-7126-44c1-fb6e-b92d93372e23",
        "colab": {
          "base_uri": "https://localhost:8080/",
          "height": 300
        }
      },
      "outputs": [
        {
          "output_type": "execute_result",
          "data": {
            "text/plain": [
              "                                               title  year\n",
              "143147  Harry Potter and the Deathly Hallows: Part 2  2011\n",
              "152831  Harry Potter and the Deathly Hallows: Part 1  2010\n",
              "109213        Harry Potter and the Half-Blood Prince  2009\n",
              "50581      Harry Potter and the Order of the Phoenix  2007\n",
              "187926           Harry Potter and the Goblet of Fire  2005\n",
              "61957       Harry Potter and the Prisoner of Azkaban  2004\n",
              "82791        Harry Potter and the Chamber of Secrets  2002\n",
              "223087         Harry Potter and the Sorcerer's Stone  2001"
            ],
            "text/html": [
              "<div>\n",
              "<style scoped>\n",
              "    .dataframe tbody tr th:only-of-type {\n",
              "        vertical-align: middle;\n",
              "    }\n",
              "\n",
              "    .dataframe tbody tr th {\n",
              "        vertical-align: top;\n",
              "    }\n",
              "\n",
              "    .dataframe thead th {\n",
              "        text-align: right;\n",
              "    }\n",
              "</style>\n",
              "<table border=\"1\" class=\"dataframe\">\n",
              "  <thead>\n",
              "    <tr style=\"text-align: right;\">\n",
              "      <th></th>\n",
              "      <th>title</th>\n",
              "      <th>year</th>\n",
              "    </tr>\n",
              "  </thead>\n",
              "  <tbody>\n",
              "    <tr>\n",
              "      <th>143147</th>\n",
              "      <td>Harry Potter and the Deathly Hallows: Part 2</td>\n",
              "      <td>2011</td>\n",
              "    </tr>\n",
              "    <tr>\n",
              "      <th>152831</th>\n",
              "      <td>Harry Potter and the Deathly Hallows: Part 1</td>\n",
              "      <td>2010</td>\n",
              "    </tr>\n",
              "    <tr>\n",
              "      <th>109213</th>\n",
              "      <td>Harry Potter and the Half-Blood Prince</td>\n",
              "      <td>2009</td>\n",
              "    </tr>\n",
              "    <tr>\n",
              "      <th>50581</th>\n",
              "      <td>Harry Potter and the Order of the Phoenix</td>\n",
              "      <td>2007</td>\n",
              "    </tr>\n",
              "    <tr>\n",
              "      <th>187926</th>\n",
              "      <td>Harry Potter and the Goblet of Fire</td>\n",
              "      <td>2005</td>\n",
              "    </tr>\n",
              "    <tr>\n",
              "      <th>61957</th>\n",
              "      <td>Harry Potter and the Prisoner of Azkaban</td>\n",
              "      <td>2004</td>\n",
              "    </tr>\n",
              "    <tr>\n",
              "      <th>82791</th>\n",
              "      <td>Harry Potter and the Chamber of Secrets</td>\n",
              "      <td>2002</td>\n",
              "    </tr>\n",
              "    <tr>\n",
              "      <th>223087</th>\n",
              "      <td>Harry Potter and the Sorcerer's Stone</td>\n",
              "      <td>2001</td>\n",
              "    </tr>\n",
              "  </tbody>\n",
              "</table>\n",
              "</div>"
            ]
          },
          "metadata": {},
          "execution_count": 17
        }
      ],
      "source": [
        "harrypotter_df = movies[movies[\"title\"].str.contains(\"Harry Potter\", case=False)]\n",
        "harrypotter_df.sort_values(\"year\", ascending=False)"
      ]
    },
    {
      "cell_type": "markdown",
      "metadata": {
        "id": "2EUaavAtdLWN"
      },
      "source": [
        "### How many movies were made in the year 2017?"
      ]
    },
    {
      "cell_type": "code",
      "execution_count": 19,
      "metadata": {
        "id": "bfiXzubzdLWO",
        "outputId": "53560b59-bd28-4d27-cee6-f82da1ce968a",
        "colab": {
          "base_uri": "https://localhost:8080/"
        }
      },
      "outputs": [
        {
          "output_type": "execute_result",
          "data": {
            "text/plain": [
              "11474"
            ]
          },
          "metadata": {},
          "execution_count": 19
        }
      ],
      "source": [
        "len(movies[movies.year == 2017])"
      ]
    },
    {
      "cell_type": "markdown",
      "metadata": {
        "id": "ORJGVolWdLWO"
      },
      "source": [
        "### Section I - Q2 : How many movies were made in the year 2015?"
      ]
    },
    {
      "cell_type": "code",
      "execution_count": 21,
      "metadata": {
        "id": "NHUEOVEFdLWO",
        "outputId": "62b1ac46-568a-4129-843f-a7b15d0c9e47",
        "colab": {
          "base_uri": "https://localhost:8080/"
        }
      },
      "outputs": [
        {
          "output_type": "execute_result",
          "data": {
            "text/plain": [
              "8702"
            ]
          },
          "metadata": {},
          "execution_count": 21
        }
      ],
      "source": [
        "len(movies[movies[\"year\"] == 2015])"
      ]
    },
    {
      "cell_type": "markdown",
      "metadata": {
        "id": "CP6tSDPQdLWO"
      },
      "source": [
        "### Section I - Q3 : How many movies were made from 2000 till 2018?\n",
        "- You can chain multiple conditions using OR (`|`) as well as AND (`&`) depending on the condition"
      ]
    },
    {
      "cell_type": "code",
      "execution_count": 25,
      "metadata": {
        "id": "OXzY4vpudLWO",
        "outputId": "f8e80004-2b3b-4ac3-fca3-5d16dd899ee3",
        "colab": {
          "base_uri": "https://localhost:8080/"
        }
      },
      "outputs": [
        {
          "output_type": "execute_result",
          "data": {
            "text/plain": [
              "244914"
            ]
          },
          "metadata": {},
          "execution_count": 25
        }
      ],
      "source": [
        "len(movies[(movies[\"year\"] >= 2000) | (movies[\"year\"] <= 2018)])"
      ]
    },
    {
      "cell_type": "markdown",
      "metadata": {
        "id": "TfXcdL6HdLWO"
      },
      "source": [
        "### Section I - Q4: How many movies are titled \"Hamlet\"?"
      ]
    },
    {
      "cell_type": "code",
      "execution_count": 33,
      "metadata": {
        "id": "7-OcxbW_dLWP",
        "outputId": "4eb5d7e6-ae65-49a7-88d3-1c5f052b0fd5",
        "colab": {
          "base_uri": "https://localhost:8080/"
        }
      },
      "outputs": [
        {
          "output_type": "execute_result",
          "data": {
            "text/plain": [
              "20"
            ]
          },
          "metadata": {},
          "execution_count": 33
        }
      ],
      "source": [
        "len(movies[movies[\"title\"] == \"Hamlet\"])"
      ]
    },
    {
      "cell_type": "markdown",
      "metadata": {
        "id": "3ovTYaTTdLWP"
      },
      "source": [
        "### Section I - Q5: List all movies titled \"Hamlet\" \n",
        "- The movies should only have been released on or after the year 2000\n",
        "- Display the movies based on the year they were released (earliest to most recent)"
      ]
    },
    {
      "cell_type": "code",
      "execution_count": 34,
      "metadata": {
        "id": "PVkBz71QdLWP",
        "outputId": "d728e983-3dfa-431f-8e11-6d579ddb7aab",
        "colab": {
          "base_uri": "https://localhost:8080/",
          "height": 269
        }
      },
      "outputs": [
        {
          "output_type": "execute_result",
          "data": {
            "text/plain": [
              "         title  year\n",
              "244747  Hamlet  2017\n",
              "191940  Hamlet  2016\n",
              "186137  Hamlet  2015\n",
              "178290  Hamlet  2014\n",
              "227953  Hamlet  2011\n",
              "1931    Hamlet  2009\n",
              "55639   Hamlet  2000"
            ],
            "text/html": [
              "<div>\n",
              "<style scoped>\n",
              "    .dataframe tbody tr th:only-of-type {\n",
              "        vertical-align: middle;\n",
              "    }\n",
              "\n",
              "    .dataframe tbody tr th {\n",
              "        vertical-align: top;\n",
              "    }\n",
              "\n",
              "    .dataframe thead th {\n",
              "        text-align: right;\n",
              "    }\n",
              "</style>\n",
              "<table border=\"1\" class=\"dataframe\">\n",
              "  <thead>\n",
              "    <tr style=\"text-align: right;\">\n",
              "      <th></th>\n",
              "      <th>title</th>\n",
              "      <th>year</th>\n",
              "    </tr>\n",
              "  </thead>\n",
              "  <tbody>\n",
              "    <tr>\n",
              "      <th>244747</th>\n",
              "      <td>Hamlet</td>\n",
              "      <td>2017</td>\n",
              "    </tr>\n",
              "    <tr>\n",
              "      <th>191940</th>\n",
              "      <td>Hamlet</td>\n",
              "      <td>2016</td>\n",
              "    </tr>\n",
              "    <tr>\n",
              "      <th>186137</th>\n",
              "      <td>Hamlet</td>\n",
              "      <td>2015</td>\n",
              "    </tr>\n",
              "    <tr>\n",
              "      <th>178290</th>\n",
              "      <td>Hamlet</td>\n",
              "      <td>2014</td>\n",
              "    </tr>\n",
              "    <tr>\n",
              "      <th>227953</th>\n",
              "      <td>Hamlet</td>\n",
              "      <td>2011</td>\n",
              "    </tr>\n",
              "    <tr>\n",
              "      <th>1931</th>\n",
              "      <td>Hamlet</td>\n",
              "      <td>2009</td>\n",
              "    </tr>\n",
              "    <tr>\n",
              "      <th>55639</th>\n",
              "      <td>Hamlet</td>\n",
              "      <td>2000</td>\n",
              "    </tr>\n",
              "  </tbody>\n",
              "</table>\n",
              "</div>"
            ]
          },
          "metadata": {},
          "execution_count": 34
        }
      ],
      "source": [
        "movies_hamlet_df = movies[(movies[\"title\"] == \"Hamlet\") & (movies[\"year\"] >= 2000)]\n",
        "movies_hamlet_df.sort_values(\"year\", ascending=False)"
      ]
    },
    {
      "cell_type": "markdown",
      "metadata": {
        "id": "9Nhjj-isdLWP"
      },
      "source": [
        "### Section I - Q6: How many roles in the movie \"Inception\" are of the supporting cast (extra credits)\n",
        "- supporting cast are NOT ranked by an \"n\" value (NaN)\n",
        "- check for how to filter based on nulls"
      ]
    },
    {
      "cell_type": "code",
      "execution_count": 50,
      "metadata": {
        "id": "BZAp4Y-QdLWP",
        "outputId": "958d9515-9dda-4dde-9053-2bdad35af550",
        "colab": {
          "base_uri": "https://localhost:8080/"
        }
      },
      "outputs": [
        {
          "output_type": "execute_result",
          "data": {
            "text/plain": [
              "27"
            ]
          },
          "metadata": {},
          "execution_count": 50
        }
      ],
      "source": [
        "cast[cast[\"title\"] == \"Inception\"][\"n\"].isna().sum()"
      ]
    },
    {
      "cell_type": "markdown",
      "metadata": {
        "id": "XMrMDOJhdLWP"
      },
      "source": [
        "### Section I - Q7: How many roles in the movie \"Inception\" are of the main cast\n",
        "- main cast always have an 'n' value"
      ]
    },
    {
      "cell_type": "code",
      "execution_count": 51,
      "metadata": {
        "id": "JRrXDBbwdLWQ",
        "outputId": "caac361c-8515-4f89-fb94-b7cbd46e1aad",
        "colab": {
          "base_uri": "https://localhost:8080/"
        }
      },
      "outputs": [
        {
          "output_type": "execute_result",
          "data": {
            "text/plain": [
              "51"
            ]
          },
          "metadata": {},
          "execution_count": 51
        }
      ],
      "source": [
        "cast[cast[\"title\"] == \"Inception\"][\"n\"].notna().sum()"
      ]
    },
    {
      "cell_type": "markdown",
      "metadata": {
        "id": "_5IYz-5zdLWQ"
      },
      "source": [
        "### Section I - Q8: Show the top ten cast (actors\\actresses) in the movie \"Inception\" \n",
        "- main cast always have an 'n' value\n",
        "- remember to sort!"
      ]
    },
    {
      "cell_type": "code",
      "execution_count": 56,
      "metadata": {
        "id": "Dnwq0vthdLWQ",
        "outputId": "5b805bef-bbf4-4d81-cdca-b84f634411bf",
        "colab": {
          "base_uri": "https://localhost:8080/",
          "height": 363
        }
      },
      "outputs": [
        {
          "output_type": "execute_result",
          "data": {
            "text/plain": [
              "             title  year                  name     type        character     n\n",
              "590576   Inception  2010     Leonardo DiCaprio    actor             Cobb   1.0\n",
              "859993   Inception  2010  Joseph Gordon-Levitt    actor           Arthur   2.0\n",
              "3387147  Inception  2010            Ellen Page  actress          Ariadne   3.0\n",
              "940923   Inception  2010             Tom Hardy    actor            Eames   4.0\n",
              "2406531  Inception  2010          Ken Watanabe    actor            Saito   5.0\n",
              "1876301  Inception  2010            Dileep Rao    actor            Yusuf   6.0\n",
              "1615709  Inception  2010        Cillian Murphy    actor   Robert Fischer   7.0\n",
              "183937   Inception  2010          Tom Berenger    actor         Browning   8.0\n",
              "2765969  Inception  2010      Marion Cotillard  actress              Mal   9.0\n",
              "1826027  Inception  2010    Pete Postlethwaite    actor  Maurice Fischer  10.0"
            ],
            "text/html": [
              "<div>\n",
              "<style scoped>\n",
              "    .dataframe tbody tr th:only-of-type {\n",
              "        vertical-align: middle;\n",
              "    }\n",
              "\n",
              "    .dataframe tbody tr th {\n",
              "        vertical-align: top;\n",
              "    }\n",
              "\n",
              "    .dataframe thead th {\n",
              "        text-align: right;\n",
              "    }\n",
              "</style>\n",
              "<table border=\"1\" class=\"dataframe\">\n",
              "  <thead>\n",
              "    <tr style=\"text-align: right;\">\n",
              "      <th></th>\n",
              "      <th>title</th>\n",
              "      <th>year</th>\n",
              "      <th>name</th>\n",
              "      <th>type</th>\n",
              "      <th>character</th>\n",
              "      <th>n</th>\n",
              "    </tr>\n",
              "  </thead>\n",
              "  <tbody>\n",
              "    <tr>\n",
              "      <th>590576</th>\n",
              "      <td>Inception</td>\n",
              "      <td>2010</td>\n",
              "      <td>Leonardo DiCaprio</td>\n",
              "      <td>actor</td>\n",
              "      <td>Cobb</td>\n",
              "      <td>1.0</td>\n",
              "    </tr>\n",
              "    <tr>\n",
              "      <th>859993</th>\n",
              "      <td>Inception</td>\n",
              "      <td>2010</td>\n",
              "      <td>Joseph Gordon-Levitt</td>\n",
              "      <td>actor</td>\n",
              "      <td>Arthur</td>\n",
              "      <td>2.0</td>\n",
              "    </tr>\n",
              "    <tr>\n",
              "      <th>3387147</th>\n",
              "      <td>Inception</td>\n",
              "      <td>2010</td>\n",
              "      <td>Ellen Page</td>\n",
              "      <td>actress</td>\n",
              "      <td>Ariadne</td>\n",
              "      <td>3.0</td>\n",
              "    </tr>\n",
              "    <tr>\n",
              "      <th>940923</th>\n",
              "      <td>Inception</td>\n",
              "      <td>2010</td>\n",
              "      <td>Tom Hardy</td>\n",
              "      <td>actor</td>\n",
              "      <td>Eames</td>\n",
              "      <td>4.0</td>\n",
              "    </tr>\n",
              "    <tr>\n",
              "      <th>2406531</th>\n",
              "      <td>Inception</td>\n",
              "      <td>2010</td>\n",
              "      <td>Ken Watanabe</td>\n",
              "      <td>actor</td>\n",
              "      <td>Saito</td>\n",
              "      <td>5.0</td>\n",
              "    </tr>\n",
              "    <tr>\n",
              "      <th>1876301</th>\n",
              "      <td>Inception</td>\n",
              "      <td>2010</td>\n",
              "      <td>Dileep Rao</td>\n",
              "      <td>actor</td>\n",
              "      <td>Yusuf</td>\n",
              "      <td>6.0</td>\n",
              "    </tr>\n",
              "    <tr>\n",
              "      <th>1615709</th>\n",
              "      <td>Inception</td>\n",
              "      <td>2010</td>\n",
              "      <td>Cillian Murphy</td>\n",
              "      <td>actor</td>\n",
              "      <td>Robert Fischer</td>\n",
              "      <td>7.0</td>\n",
              "    </tr>\n",
              "    <tr>\n",
              "      <th>183937</th>\n",
              "      <td>Inception</td>\n",
              "      <td>2010</td>\n",
              "      <td>Tom Berenger</td>\n",
              "      <td>actor</td>\n",
              "      <td>Browning</td>\n",
              "      <td>8.0</td>\n",
              "    </tr>\n",
              "    <tr>\n",
              "      <th>2765969</th>\n",
              "      <td>Inception</td>\n",
              "      <td>2010</td>\n",
              "      <td>Marion Cotillard</td>\n",
              "      <td>actress</td>\n",
              "      <td>Mal</td>\n",
              "      <td>9.0</td>\n",
              "    </tr>\n",
              "    <tr>\n",
              "      <th>1826027</th>\n",
              "      <td>Inception</td>\n",
              "      <td>2010</td>\n",
              "      <td>Pete Postlethwaite</td>\n",
              "      <td>actor</td>\n",
              "      <td>Maurice Fischer</td>\n",
              "      <td>10.0</td>\n",
              "    </tr>\n",
              "  </tbody>\n",
              "</table>\n",
              "</div>"
            ]
          },
          "metadata": {},
          "execution_count": 56
        }
      ],
      "source": [
        "cast[(cast[\"title\"] == \"Inception\") & (cast[\"n\"].notna())].sort_values(\"n\").iloc[:10]"
      ]
    },
    {
      "cell_type": "markdown",
      "metadata": {
        "id": "5xWv7lp5dLWQ"
      },
      "source": [
        "### Section I - Q9:\n",
        "\n",
        "(A) List all movies where there was a character 'Albus Dumbledore' \n",
        "\n",
        "(B) Now modify the above to show only the actors who played the character 'Albus Dumbledore'\n",
        "- For Part (B) remember the same actor might play the same role in multiple movies"
      ]
    },
    {
      "cell_type": "code",
      "execution_count": 63,
      "metadata": {
        "id": "GRGNX9M3dLWQ",
        "outputId": "f1b0fabf-6d5c-4a05-ddd1-76ecba6d8d57",
        "colab": {
          "base_uri": "https://localhost:8080/"
        }
      },
      "outputs": [
        {
          "output_type": "execute_result",
          "data": {
            "text/plain": [
              "array(['Albus Dumbledore'], dtype=object)"
            ]
          },
          "metadata": {},
          "execution_count": 63
        }
      ],
      "source": [
        "cast[cast[\"character\"] == \"Albus Dumbledore\"]"
      ]
    },
    {
      "cell_type": "code",
      "execution_count": 65,
      "metadata": {
        "id": "3S7Omm6jdLWQ",
        "outputId": "9fa04752-0f83-4cb2-dec3-d0145e51d492",
        "colab": {
          "base_uri": "https://localhost:8080/"
        }
      },
      "outputs": [
        {
          "output_type": "stream",
          "name": "stdout",
          "text": [
            "['Dane Farwell' 'Michael Gambon' 'Richard Harris' \"George (X) O'Connor\"\n",
            " 'Timothy Tedmanson']\n"
          ]
        }
      ],
      "source": [
        "print(cast[cast[\"character\"] == \"Albus Dumbledore\"][\"name\"].unique())"
      ]
    },
    {
      "cell_type": "markdown",
      "metadata": {
        "id": "f8ldG-M5dLWQ"
      },
      "source": [
        "### Section I - Q10:\n",
        "\n",
        "(A) How many roles has 'Keanu Reeves' played throughout his career?\n",
        "\n",
        "(B) List the leading roles that 'Keanu Reeves' played on or after 1999 in order by year."
      ]
    },
    {
      "cell_type": "code",
      "execution_count": 67,
      "metadata": {
        "id": "foDQIWr9dLWR",
        "outputId": "34ed0aab-c3a9-4462-87ba-58f431abfe94",
        "colab": {
          "base_uri": "https://localhost:8080/",
          "height": 424
        }
      },
      "outputs": [
        {
          "output_type": "execute_result",
          "data": {
            "text/plain": [
              "                                    title  year          name   type  \\\n",
              "1892342                          47 Ronin  2013  Keanu Reeves  actor   \n",
              "1892343                  A Scanner Darkly  2006  Keanu Reeves  actor   \n",
              "1892344              A Walk in the Clouds  1995  Keanu Reeves  actor   \n",
              "1892345        Bill & Ted's Bogus Journey  1991  Keanu Reeves  actor   \n",
              "1892346  Bill & Ted's Excellent Adventure  1989  Keanu Reeves  actor   \n",
              "...                                   ...   ...           ...    ...   \n",
              "1892399                   The Whole Truth  2016  Keanu Reeves  actor   \n",
              "1892400                       Thumbsucker  2005  Keanu Reeves  actor   \n",
              "1892401                       To the Bone  2017  Keanu Reeves  actor   \n",
              "1892402               Tune in Tomorrow...  1990  Keanu Reeves  actor   \n",
              "1892403                        Youngblood  1986  Keanu Reeves  actor   \n",
              "\n",
              "             character     n  \n",
              "1892342            Kai   1.0  \n",
              "1892343     Bob Arctor   4.0  \n",
              "1892344    Paul Sutton   1.0  \n",
              "1892345            Ted   1.0  \n",
              "1892346            Ted   1.0  \n",
              "...                ...   ...  \n",
              "1892399         Ramsey   1.0  \n",
              "1892400    Perry Lyman  17.0  \n",
              "1892401    Dr. Beckham  11.0  \n",
              "1892402  Martin Loader   2.0  \n",
              "1892403         Heaver  12.0  \n",
              "\n",
              "[62 rows x 6 columns]"
            ],
            "text/html": [
              "<div>\n",
              "<style scoped>\n",
              "    .dataframe tbody tr th:only-of-type {\n",
              "        vertical-align: middle;\n",
              "    }\n",
              "\n",
              "    .dataframe tbody tr th {\n",
              "        vertical-align: top;\n",
              "    }\n",
              "\n",
              "    .dataframe thead th {\n",
              "        text-align: right;\n",
              "    }\n",
              "</style>\n",
              "<table border=\"1\" class=\"dataframe\">\n",
              "  <thead>\n",
              "    <tr style=\"text-align: right;\">\n",
              "      <th></th>\n",
              "      <th>title</th>\n",
              "      <th>year</th>\n",
              "      <th>name</th>\n",
              "      <th>type</th>\n",
              "      <th>character</th>\n",
              "      <th>n</th>\n",
              "    </tr>\n",
              "  </thead>\n",
              "  <tbody>\n",
              "    <tr>\n",
              "      <th>1892342</th>\n",
              "      <td>47 Ronin</td>\n",
              "      <td>2013</td>\n",
              "      <td>Keanu Reeves</td>\n",
              "      <td>actor</td>\n",
              "      <td>Kai</td>\n",
              "      <td>1.0</td>\n",
              "    </tr>\n",
              "    <tr>\n",
              "      <th>1892343</th>\n",
              "      <td>A Scanner Darkly</td>\n",
              "      <td>2006</td>\n",
              "      <td>Keanu Reeves</td>\n",
              "      <td>actor</td>\n",
              "      <td>Bob Arctor</td>\n",
              "      <td>4.0</td>\n",
              "    </tr>\n",
              "    <tr>\n",
              "      <th>1892344</th>\n",
              "      <td>A Walk in the Clouds</td>\n",
              "      <td>1995</td>\n",
              "      <td>Keanu Reeves</td>\n",
              "      <td>actor</td>\n",
              "      <td>Paul Sutton</td>\n",
              "      <td>1.0</td>\n",
              "    </tr>\n",
              "    <tr>\n",
              "      <th>1892345</th>\n",
              "      <td>Bill &amp; Ted's Bogus Journey</td>\n",
              "      <td>1991</td>\n",
              "      <td>Keanu Reeves</td>\n",
              "      <td>actor</td>\n",
              "      <td>Ted</td>\n",
              "      <td>1.0</td>\n",
              "    </tr>\n",
              "    <tr>\n",
              "      <th>1892346</th>\n",
              "      <td>Bill &amp; Ted's Excellent Adventure</td>\n",
              "      <td>1989</td>\n",
              "      <td>Keanu Reeves</td>\n",
              "      <td>actor</td>\n",
              "      <td>Ted</td>\n",
              "      <td>1.0</td>\n",
              "    </tr>\n",
              "    <tr>\n",
              "      <th>...</th>\n",
              "      <td>...</td>\n",
              "      <td>...</td>\n",
              "      <td>...</td>\n",
              "      <td>...</td>\n",
              "      <td>...</td>\n",
              "      <td>...</td>\n",
              "    </tr>\n",
              "    <tr>\n",
              "      <th>1892399</th>\n",
              "      <td>The Whole Truth</td>\n",
              "      <td>2016</td>\n",
              "      <td>Keanu Reeves</td>\n",
              "      <td>actor</td>\n",
              "      <td>Ramsey</td>\n",
              "      <td>1.0</td>\n",
              "    </tr>\n",
              "    <tr>\n",
              "      <th>1892400</th>\n",
              "      <td>Thumbsucker</td>\n",
              "      <td>2005</td>\n",
              "      <td>Keanu Reeves</td>\n",
              "      <td>actor</td>\n",
              "      <td>Perry Lyman</td>\n",
              "      <td>17.0</td>\n",
              "    </tr>\n",
              "    <tr>\n",
              "      <th>1892401</th>\n",
              "      <td>To the Bone</td>\n",
              "      <td>2017</td>\n",
              "      <td>Keanu Reeves</td>\n",
              "      <td>actor</td>\n",
              "      <td>Dr. Beckham</td>\n",
              "      <td>11.0</td>\n",
              "    </tr>\n",
              "    <tr>\n",
              "      <th>1892402</th>\n",
              "      <td>Tune in Tomorrow...</td>\n",
              "      <td>1990</td>\n",
              "      <td>Keanu Reeves</td>\n",
              "      <td>actor</td>\n",
              "      <td>Martin Loader</td>\n",
              "      <td>2.0</td>\n",
              "    </tr>\n",
              "    <tr>\n",
              "      <th>1892403</th>\n",
              "      <td>Youngblood</td>\n",
              "      <td>1986</td>\n",
              "      <td>Keanu Reeves</td>\n",
              "      <td>actor</td>\n",
              "      <td>Heaver</td>\n",
              "      <td>12.0</td>\n",
              "    </tr>\n",
              "  </tbody>\n",
              "</table>\n",
              "<p>62 rows × 6 columns</p>\n",
              "</div>"
            ]
          },
          "metadata": {},
          "execution_count": 67
        }
      ],
      "source": [
        "cast[cast[\"name\"] == \"Keanu Reeves\"]"
      ]
    },
    {
      "cell_type": "code",
      "execution_count": 69,
      "metadata": {
        "id": "HRh6vbpJdLWR",
        "outputId": "7a941a4a-e466-4428-b284-8667c7e59f8e",
        "colab": {
          "base_uri": "https://localhost:8080/",
          "height": 520
        }
      },
      "outputs": [
        {
          "output_type": "execute_result",
          "data": {
            "text/plain": [
              "                                 title  year          name   type  \\\n",
              "1892390                     The Matrix  1999  Keanu Reeves  actor   \n",
              "1892397               The Replacements  2000  Keanu Reeves  actor   \n",
              "1892358                      Hard Ball  2001  Keanu Reeves  actor   \n",
              "1892383                 Sweet November  2001  Keanu Reeves  actor   \n",
              "1892348                    Constantine  2005  Keanu Reeves  actor   \n",
              "1892388                 The Lake House  2006  Keanu Reeves  actor   \n",
              "1892382                   Street Kings  2008  Keanu Reeves  actor   \n",
              "1892385  The Day the Earth Stood Still  2008  Keanu Reeves  actor   \n",
              "1892359                  Henry's Crime  2010  Keanu Reeves  actor   \n",
              "1892342                       47 Ronin  2013  Keanu Reeves  actor   \n",
              "1892361                      John Wick  2014  Keanu Reeves  actor   \n",
              "1892366                    Knock Knock  2015  Keanu Reeves  actor   \n",
              "1892399                The Whole Truth  2016  Keanu Reeves  actor   \n",
              "1892362           John Wick: Chapter 2  2017  Keanu Reeves  actor   \n",
              "1892378                        Siberia  2018  Keanu Reeves  actor   \n",
              "\n",
              "                    character    n  \n",
              "1892390                   Neo  1.0  \n",
              "1892397           Shane Falco  1.0  \n",
              "1892358         Conor O'Neill  1.0  \n",
              "1892383           Nelson Moss  1.0  \n",
              "1892348      John Constantine  1.0  \n",
              "1892388            Alex Wyler  1.0  \n",
              "1892382  Detective Tom Ludlow  1.0  \n",
              "1892385                Klaatu  1.0  \n",
              "1892359           Henry Torne  1.0  \n",
              "1892342                   Kai  1.0  \n",
              "1892361             John Wick  1.0  \n",
              "1892366                  Evan  1.0  \n",
              "1892399                Ramsey  1.0  \n",
              "1892362             John Wick  1.0  \n",
              "1892378            Lucas Hill  1.0  "
            ],
            "text/html": [
              "<div>\n",
              "<style scoped>\n",
              "    .dataframe tbody tr th:only-of-type {\n",
              "        vertical-align: middle;\n",
              "    }\n",
              "\n",
              "    .dataframe tbody tr th {\n",
              "        vertical-align: top;\n",
              "    }\n",
              "\n",
              "    .dataframe thead th {\n",
              "        text-align: right;\n",
              "    }\n",
              "</style>\n",
              "<table border=\"1\" class=\"dataframe\">\n",
              "  <thead>\n",
              "    <tr style=\"text-align: right;\">\n",
              "      <th></th>\n",
              "      <th>title</th>\n",
              "      <th>year</th>\n",
              "      <th>name</th>\n",
              "      <th>type</th>\n",
              "      <th>character</th>\n",
              "      <th>n</th>\n",
              "    </tr>\n",
              "  </thead>\n",
              "  <tbody>\n",
              "    <tr>\n",
              "      <th>1892390</th>\n",
              "      <td>The Matrix</td>\n",
              "      <td>1999</td>\n",
              "      <td>Keanu Reeves</td>\n",
              "      <td>actor</td>\n",
              "      <td>Neo</td>\n",
              "      <td>1.0</td>\n",
              "    </tr>\n",
              "    <tr>\n",
              "      <th>1892397</th>\n",
              "      <td>The Replacements</td>\n",
              "      <td>2000</td>\n",
              "      <td>Keanu Reeves</td>\n",
              "      <td>actor</td>\n",
              "      <td>Shane Falco</td>\n",
              "      <td>1.0</td>\n",
              "    </tr>\n",
              "    <tr>\n",
              "      <th>1892358</th>\n",
              "      <td>Hard Ball</td>\n",
              "      <td>2001</td>\n",
              "      <td>Keanu Reeves</td>\n",
              "      <td>actor</td>\n",
              "      <td>Conor O'Neill</td>\n",
              "      <td>1.0</td>\n",
              "    </tr>\n",
              "    <tr>\n",
              "      <th>1892383</th>\n",
              "      <td>Sweet November</td>\n",
              "      <td>2001</td>\n",
              "      <td>Keanu Reeves</td>\n",
              "      <td>actor</td>\n",
              "      <td>Nelson Moss</td>\n",
              "      <td>1.0</td>\n",
              "    </tr>\n",
              "    <tr>\n",
              "      <th>1892348</th>\n",
              "      <td>Constantine</td>\n",
              "      <td>2005</td>\n",
              "      <td>Keanu Reeves</td>\n",
              "      <td>actor</td>\n",
              "      <td>John Constantine</td>\n",
              "      <td>1.0</td>\n",
              "    </tr>\n",
              "    <tr>\n",
              "      <th>1892388</th>\n",
              "      <td>The Lake House</td>\n",
              "      <td>2006</td>\n",
              "      <td>Keanu Reeves</td>\n",
              "      <td>actor</td>\n",
              "      <td>Alex Wyler</td>\n",
              "      <td>1.0</td>\n",
              "    </tr>\n",
              "    <tr>\n",
              "      <th>1892382</th>\n",
              "      <td>Street Kings</td>\n",
              "      <td>2008</td>\n",
              "      <td>Keanu Reeves</td>\n",
              "      <td>actor</td>\n",
              "      <td>Detective Tom Ludlow</td>\n",
              "      <td>1.0</td>\n",
              "    </tr>\n",
              "    <tr>\n",
              "      <th>1892385</th>\n",
              "      <td>The Day the Earth Stood Still</td>\n",
              "      <td>2008</td>\n",
              "      <td>Keanu Reeves</td>\n",
              "      <td>actor</td>\n",
              "      <td>Klaatu</td>\n",
              "      <td>1.0</td>\n",
              "    </tr>\n",
              "    <tr>\n",
              "      <th>1892359</th>\n",
              "      <td>Henry's Crime</td>\n",
              "      <td>2010</td>\n",
              "      <td>Keanu Reeves</td>\n",
              "      <td>actor</td>\n",
              "      <td>Henry Torne</td>\n",
              "      <td>1.0</td>\n",
              "    </tr>\n",
              "    <tr>\n",
              "      <th>1892342</th>\n",
              "      <td>47 Ronin</td>\n",
              "      <td>2013</td>\n",
              "      <td>Keanu Reeves</td>\n",
              "      <td>actor</td>\n",
              "      <td>Kai</td>\n",
              "      <td>1.0</td>\n",
              "    </tr>\n",
              "    <tr>\n",
              "      <th>1892361</th>\n",
              "      <td>John Wick</td>\n",
              "      <td>2014</td>\n",
              "      <td>Keanu Reeves</td>\n",
              "      <td>actor</td>\n",
              "      <td>John Wick</td>\n",
              "      <td>1.0</td>\n",
              "    </tr>\n",
              "    <tr>\n",
              "      <th>1892366</th>\n",
              "      <td>Knock Knock</td>\n",
              "      <td>2015</td>\n",
              "      <td>Keanu Reeves</td>\n",
              "      <td>actor</td>\n",
              "      <td>Evan</td>\n",
              "      <td>1.0</td>\n",
              "    </tr>\n",
              "    <tr>\n",
              "      <th>1892399</th>\n",
              "      <td>The Whole Truth</td>\n",
              "      <td>2016</td>\n",
              "      <td>Keanu Reeves</td>\n",
              "      <td>actor</td>\n",
              "      <td>Ramsey</td>\n",
              "      <td>1.0</td>\n",
              "    </tr>\n",
              "    <tr>\n",
              "      <th>1892362</th>\n",
              "      <td>John Wick: Chapter 2</td>\n",
              "      <td>2017</td>\n",
              "      <td>Keanu Reeves</td>\n",
              "      <td>actor</td>\n",
              "      <td>John Wick</td>\n",
              "      <td>1.0</td>\n",
              "    </tr>\n",
              "    <tr>\n",
              "      <th>1892378</th>\n",
              "      <td>Siberia</td>\n",
              "      <td>2018</td>\n",
              "      <td>Keanu Reeves</td>\n",
              "      <td>actor</td>\n",
              "      <td>Lucas Hill</td>\n",
              "      <td>1.0</td>\n",
              "    </tr>\n",
              "  </tbody>\n",
              "</table>\n",
              "</div>"
            ]
          },
          "metadata": {},
          "execution_count": 69
        }
      ],
      "source": [
        "cast[(cast[\"name\"] == \"Keanu Reeves\") & (cast[\"year\"] >= 1999) & (cast[\"n\"] == 1.0)].sort_values(\"year\")"
      ]
    },
    {
      "cell_type": "markdown",
      "metadata": {
        "id": "FB8f1qZ2dLWR"
      },
      "source": [
        "### Section I - Q11: \n",
        "\n",
        "(A) List the total number of actor and actress roles available from 1950 - 1960\n",
        "\n",
        "(B) List the total number of actor and actress roles available from 2007 - 2017"
      ]
    },
    {
      "cell_type": "code",
      "execution_count": 77,
      "metadata": {
        "id": "nD_NG9RHdLWR",
        "outputId": "aa57952e-c602-4351-96f5-00b2d7139d29",
        "colab": {
          "base_uri": "https://localhost:8080/"
        }
      },
      "outputs": [
        {
          "output_type": "execute_result",
          "data": {
            "text/plain": [
              "actor      171302\n",
              "actress     63333\n",
              "Name: type, dtype: int64"
            ]
          },
          "metadata": {},
          "execution_count": 77
        }
      ],
      "source": [
        "cast[(cast[\"year\"] >= 1950) & (cast[\"year\"] <= 1960)][\"type\"].value_counts()"
      ]
    },
    {
      "cell_type": "code",
      "execution_count": 78,
      "metadata": {
        "id": "mIssCdgrdLWR",
        "outputId": "8ba65e97-b14f-42ca-9a9b-87a3d3ef63be",
        "colab": {
          "base_uri": "https://localhost:8080/"
        }
      },
      "outputs": [
        {
          "output_type": "execute_result",
          "data": {
            "text/plain": [
              "actor      922782\n",
              "actress    529631\n",
              "Name: type, dtype: int64"
            ]
          },
          "metadata": {},
          "execution_count": 78
        }
      ],
      "source": [
        "cast[(cast[\"year\"] >= 2007) & (cast[\"year\"] <= 2017)][\"type\"].value_counts()"
      ]
    },
    {
      "cell_type": "markdown",
      "metadata": {
        "id": "l59isv4qdLWR"
      },
      "source": [
        "### Section I - Q12: \n",
        "\n",
        "(A) List the total number of leading roles available from 2000 to present\n",
        "\n",
        "(B) List the total number of non-leading roles available from 2000 - present (exclude support cast)\n",
        "\n",
        "(C) List the total number of support\\extra-credit roles available from 2000 - present"
      ]
    },
    {
      "cell_type": "code",
      "execution_count": 80,
      "metadata": {
        "id": "2AiHYny_dLWR",
        "outputId": "2d910926-77aa-4032-8ed6-7ea6519961f3",
        "colab": {
          "base_uri": "https://localhost:8080/"
        }
      },
      "outputs": [
        {
          "output_type": "execute_result",
          "data": {
            "text/plain": [
              "60568"
            ]
          },
          "metadata": {},
          "execution_count": 80
        }
      ],
      "source": [
        "len(cast[(cast[\"year\"] >= 2000) & (cast[\"n\"] == 1.0)])"
      ]
    },
    {
      "cell_type": "code",
      "execution_count": 81,
      "metadata": {
        "id": "uTlNIOYldLWS",
        "outputId": "91013986-d976-437a-abc1-2e8fe8e7e563",
        "colab": {
          "base_uri": "https://localhost:8080/"
        }
      },
      "outputs": [
        {
          "output_type": "execute_result",
          "data": {
            "text/plain": [
              "1001710"
            ]
          },
          "metadata": {},
          "execution_count": 81
        }
      ],
      "source": [
        "len(cast[(cast[\"year\"] >= 2000) & (cast[\"n\"].notna()) & (cast[\"n\"] != 1.0)])"
      ]
    },
    {
      "cell_type": "code",
      "execution_count": 82,
      "metadata": {
        "id": "DZmvCIa0dLWS",
        "outputId": "3d5e666a-8633-4392-fbb2-9f1828593ea4",
        "colab": {
          "base_uri": "https://localhost:8080/"
        }
      },
      "outputs": [
        {
          "output_type": "execute_result",
          "data": {
            "text/plain": [
              "887484"
            ]
          },
          "metadata": {},
          "execution_count": 82
        }
      ],
      "source": [
        "len(cast[(cast[\"year\"] >= 2000) & (cast[\"n\"].isna())])"
      ]
    },
    {
      "cell_type": "markdown",
      "metadata": {
        "id": "UruUBE2-dLWS"
      },
      "source": [
        "# Section II - Aggregations, Transformations and Visualizations"
      ]
    },
    {
      "cell_type": "markdown",
      "metadata": {
        "id": "355k4kEUdLWS"
      },
      "source": [
        "## What are the top ten most common movie names of all time?\n"
      ]
    },
    {
      "cell_type": "code",
      "execution_count": 83,
      "metadata": {
        "id": "YpFDXeiQdLWS",
        "outputId": "38c7b9ed-51bf-45d0-a8f7-cbf3ad34216f",
        "colab": {
          "base_uri": "https://localhost:8080/"
        }
      },
      "outputs": [
        {
          "output_type": "execute_result",
          "data": {
            "text/plain": [
              "Hamlet                  20\n",
              "Carmen                  17\n",
              "Macbeth                 16\n",
              "Maya                    12\n",
              "Temptation              12\n",
              "The Outsider            12\n",
              "Freedom                 11\n",
              "The Three Musketeers    11\n",
              "Honeymoon               11\n",
              "Othello                 11\n",
              "Name: title, dtype: int64"
            ]
          },
          "metadata": {},
          "execution_count": 83
        }
      ],
      "source": [
        "top_ten = movies.title.value_counts()[:10]\n",
        "top_ten"
      ]
    },
    {
      "cell_type": "markdown",
      "metadata": {
        "id": "eQ44WYJOdLWS"
      },
      "source": [
        "### Plot the top ten common movie names of all time"
      ]
    },
    {
      "cell_type": "code",
      "execution_count": 84,
      "metadata": {
        "id": "mfwOFBondLWS",
        "outputId": "eecc560e-3ea8-43ca-fe0f-b8a2dc9cddcb",
        "colab": {
          "base_uri": "https://localhost:8080/",
          "height": 282
        }
      },
      "outputs": [
        {
          "output_type": "execute_result",
          "data": {
            "text/plain": [
              "<AxesSubplot:>"
            ]
          },
          "metadata": {},
          "execution_count": 84
        },
        {
          "output_type": "display_data",
          "data": {
            "text/plain": [
              "<Figure size 432x288 with 1 Axes>"
            ],
            "image/png": "[encoded data removed]"
          },
          "metadata": {
            "needs_background": "light"
          }
        }
      ],
      "source": [
        "top_ten.plot(kind='barh')"
      ]
    },
    {
      "cell_type": "markdown",
      "metadata": {
        "id": "2801YYicdLWU"
      },
      "source": [
        "### Section II - Q1:  Which years in the 2000s saw the most movies released? (Show top 3)"
      ]
    },
    {
      "cell_type": "code",
      "execution_count": 90,
      "metadata": {
        "id": "jQnlIrjUdLWV",
        "outputId": "3bb3e859-162e-49b2-f293-434c5589966d",
        "colab": {
          "base_uri": "https://localhost:8080/"
        }
      },
      "outputs": [
        {
          "output_type": "execute_result",
          "data": {
            "text/plain": [
              "2009    12617\n",
              "2008    11854\n",
              "2007    11566\n",
              "Name: year, dtype: int64"
            ]
          },
          "metadata": {},
          "execution_count": 90
        }
      ],
      "source": [
        "release_dates[(release_dates[\"year\"] >= 2000) & (release_dates[\"year\"] < 2010)][\"year\"].value_counts()[:3]"
      ]
    },
    {
      "cell_type": "markdown",
      "metadata": {
        "id": "An9AOCpjdLWV"
      },
      "source": [
        "### Section II - Q2: # Plot the total number of films released per-decade (1890, 1900, 1910,....)\n",
        "- Hint: Dividing the year and multiplying with a number might give you the decade the year falls into!\n",
        "- You might need to sort before plotting"
      ]
    },
    {
      "cell_type": "code",
      "execution_count": 107,
      "metadata": {
        "id": "0ewX2K_9dLWV",
        "outputId": "a7524239-b36e-4379-89b7-850ad0aabe22",
        "colab": {
          "base_uri": "https://localhost:8080/",
          "height": 282
        }
      },
      "outputs": [
        {
          "output_type": "execute_result",
          "data": {
            "text/plain": [
              "<AxesSubplot:>"
            ]
          },
          "metadata": {},
          "execution_count": 107
        },
        {
          "output_type": "display_data",
          "data": {
            "text/plain": [
              "<Figure size 432x288 with 1 Axes>"
            ],
            "image/png": "[encoded data removed]"
          },
          "metadata": {
            "needs_background": "light"
          }
        }
      ],
      "source": [
        "release_dates[\"decade\"] = release_dates[\"year\"] // 10 * 10\n",
        "release_dates_decade = release_dates.sort_values(\"decade\")[\"decade\"].value_counts()\n",
        "release_dates_decade.plot(kind=\"barh\")"
      ]
    },
    {
      "cell_type": "markdown",
      "metadata": {
        "id": "okR0GlKYdLWV"
      },
      "source": [
        "### Section II - Q3: \n",
        "\n",
        "(A) What are the top 10 most common character names in movie history?\n",
        "\n",
        "(B) Who are the top 10 people most often credited as \"Herself\" in movie history?\n",
        "\n",
        "(C) Who are the top 10 people most often credited as \"Himself\" in movie history?"
      ]
    },
    {
      "cell_type": "code",
      "execution_count": 109,
      "metadata": {
        "id": "B5p8zW-udLWV",
        "outputId": "b2497f12-37df-4b3b-a57a-fe49eeca27f8",
        "colab": {
          "base_uri": "https://localhost:8080/"
        }
      },
      "outputs": [
        {
          "output_type": "execute_result",
          "data": {
            "text/plain": [
              "Himself        20746\n",
              "Dancer         12477\n",
              "Extra          11948\n",
              "Reporter        8434\n",
              "Student         7773\n",
              "Doctor          7669\n",
              "Party Guest     7245\n",
              "Policeman       7029\n",
              "Nurse           6999\n",
              "Bartender       6802\n",
              "Name: character, dtype: int64"
            ]
          },
          "metadata": {},
          "execution_count": 109
        }
      ],
      "source": [
        "top_ten_char = cast.character.value_counts()[:10]\n",
        "top_ten_char"
      ]
    },
    {
      "cell_type": "code",
      "execution_count": 112,
      "metadata": {
        "id": "bw57dccVdLWV",
        "outputId": "4871a9f5-ae3d-489d-effb-fb2f102fa026",
        "colab": {
          "base_uri": "https://localhost:8080/"
        }
      },
      "outputs": [
        {
          "output_type": "execute_result",
          "data": {
            "text/plain": [
              "Queen Elizabeth II           12\n",
              "Joyce Brothers                9\n",
              "Luisa Horga                   9\n",
              "Mar?a Luisa (V) Mart?n        9\n",
              "Margaret Thatcher             8\n",
              "Hillary Clinton               8\n",
              "In?s J. Southern              6\n",
              "Mar?a Isabel (III) Mart?n     6\n",
              "Marta Berrocal                6\n",
              "Sumie Sakai                   6\n",
              "Name: name, dtype: int64"
            ]
          },
          "metadata": {},
          "execution_count": 112
        }
      ],
      "source": [
        "cast[cast[\"character\"] == \"Herself\"][\"name\"].value_counts()[:10]"
      ]
    },
    {
      "cell_type": "code",
      "execution_count": 114,
      "metadata": {
        "id": "gBOchmORdLWV",
        "outputId": "8879994a-e943-4960-c903-ce0d24699637",
        "colab": {
          "base_uri": "https://localhost:8080/"
        }
      },
      "outputs": [
        {
          "output_type": "execute_result",
          "data": {
            "text/plain": [
              "Adolf Hitler             99\n",
              "Richard Nixon            44\n",
              "Ronald Reagan            41\n",
              "John F. Kennedy          37\n",
              "George W. Bush           25\n",
              "Winston Churchill        24\n",
              "Martin Luther King       23\n",
              "Ron Jeremy               22\n",
              "Bill Clinton             22\n",
              "Franklin D. Roosevelt    21\n",
              "Name: name, dtype: int64"
            ]
          },
          "metadata": {},
          "execution_count": 114
        }
      ],
      "source": [
        "cast[cast[\"character\"] == \"Himself\"][\"name\"].value_counts()[:10]"
      ]
    },
    {
      "cell_type": "markdown",
      "metadata": {
        "id": "ruB3ipU-dLWV"
      },
      "source": [
        "### Section II - Q4: \n",
        "\n",
        "(A) What are the top 10 most frequent roles that start with the word \"Zombie\"?\n",
        "\n",
        "(B) What are the top 10 most frequent roles that start with the word \"Police\"?\n",
        "\n",
        "- Hint: The `startswith()` function might be useful"
      ]
    },
    {
      "cell_type": "code",
      "execution_count": 118,
      "metadata": {
        "id": "w6jI7fwMdLWW",
        "outputId": "0df696ab-ca47-4520-cb6e-b3e9628322f2",
        "colab": {
          "base_uri": "https://localhost:8080/"
        }
      },
      "outputs": [
        {
          "output_type": "execute_result",
          "data": {
            "text/plain": [
              "Zombie                         6264\n",
              "Zombie Horde                    206\n",
              "Zombie - Protestor - Victim      78\n",
              "Zombie Extra                     70\n",
              "Zombie Dancer                    43\n",
              "Zombie Girl                      36\n",
              "Zombie #1                        36\n",
              "Zombie #2                        31\n",
              "Zombie Vampire                   25\n",
              "Zombie Victim                    22\n",
              "Name: character, dtype: int64"
            ]
          },
          "metadata": {},
          "execution_count": 118
        }
      ],
      "source": [
        "cast[cast[\"character\"].str.startswith(\"Zombie\")][\"character\"].value_counts()[:10]"
      ]
    },
    {
      "cell_type": "code",
      "execution_count": 119,
      "metadata": {
        "id": "yvdSxIkmdLWW",
        "outputId": "84a902c2-0072-4a5a-beaf-6db434aa191c",
        "colab": {
          "base_uri": "https://localhost:8080/"
        }
      },
      "outputs": [
        {
          "output_type": "execute_result",
          "data": {
            "text/plain": [
              "Policeman              7029\n",
              "Police Officer         4808\n",
              "Police Inspector        742\n",
              "Police Sergeant         674\n",
              "Police officer          539\n",
              "Police                  456\n",
              "Policewoman             415\n",
              "Police Chief            410\n",
              "Police Captain          387\n",
              "Police Commissioner     337\n",
              "Name: character, dtype: int64"
            ]
          },
          "metadata": {},
          "execution_count": 119
        }
      ],
      "source": [
        "cast[cast[\"character\"].str.startswith(\"Police\")][\"character\"].value_counts()[:10]"
      ]
    },
    {
      "cell_type": "markdown",
      "metadata": {
        "id": "BMpVB36GdLWW"
      },
      "source": [
        "### Section II - Q5: Plot how many roles 'Keanu Reeves' has played in each year of his career."
      ]
    },
    {
      "cell_type": "code",
      "execution_count": 123,
      "metadata": {
        "id": "LOD-v6eUdLWW",
        "outputId": "1cec4052-f2b3-4727-f670-9a60ebf2420c",
        "colab": {
          "base_uri": "https://localhost:8080/"
        }
      },
      "outputs": [
        {
          "output_type": "execute_result",
          "data": {
            "text/plain": [
              "1985    1\n",
              "1986    3\n",
              "1988    4\n",
              "1989    2\n",
              "1990    2\n",
              "1991    3\n",
              "1992    1\n",
              "1993    4\n",
              "1994    1\n",
              "1995    2\n",
              "1996    2\n",
              "1997    2\n",
              "1999    3\n",
              "2000    3\n",
              "2001    2\n",
              "2003    3\n",
              "2005    3\n",
              "2006    2\n",
              "2008    2\n",
              "2009    1\n",
              "2010    1\n",
              "2012    1\n",
              "2013    2\n",
              "2014    1\n",
              "2015    1\n",
              "2016    5\n",
              "2017    3\n",
              "2018    1\n",
              "2019    1\n",
              "Name: year, dtype: int64"
            ]
          },
          "metadata": {},
          "execution_count": 123
        }
      ],
      "source": [
        "cast_keanu_r = cast[cast[\"name\"] == \"Keanu Reeves\"]\n",
        "cast_keanu_r[\"year\"].value_counts().sort_index()"
      ]
    },
    {
      "cell_type": "markdown",
      "metadata": {
        "id": "ByaIDa2LdLWW"
      },
      "source": [
        "### Section II - Q6: Plot the cast positions (n-values) of Keanu Reeve's roles through his career over the years.\n"
      ]
    },
    {
      "cell_type": "code",
      "execution_count": 128,
      "metadata": {
        "id": "4kqLKxCbdLWW",
        "outputId": "1422a347-9d2b-4cbb-b94e-03cde77469ee",
        "colab": {
          "base_uri": "https://localhost:8080/",
          "height": 296
        }
      },
      "outputs": [
        {
          "output_type": "execute_result",
          "data": {
            "text/plain": [
              "<AxesSubplot:xlabel='year', ylabel='n'>"
            ]
          },
          "metadata": {},
          "execution_count": 128
        },
        {
          "output_type": "display_data",
          "data": {
            "text/plain": [
              "<Figure size 432x288 with 1 Axes>"
            ],
            "image/png": "[encoded data removed]"
          },
          "metadata": {
            "needs_background": "light"
          }
        }
      ],
      "source": [
        "cast_keanu_r.plot(kind=\"scatter\",x=\"year\",y=\"n\", c=\"darkblue\")"
      ]
    },
    {
      "cell_type": "markdown",
      "metadata": {
        "id": "fCru6FFldLWW"
      },
      "source": [
        "### Section II - Q7: Plot the number of \"Hamlet\" films made by each decade"
      ]
    },
    {
      "cell_type": "code",
      "execution_count": 142,
      "metadata": {
        "id": "S0u8TQvIdLWW",
        "outputId": "f619b9d2-1f1f-428f-fc96-4ebb65d09d91",
        "colab": {
          "base_uri": "https://localhost:8080/",
          "height": 282
        }
      },
      "outputs": [
        {
          "output_type": "execute_result",
          "data": {
            "text/plain": [
              "<AxesSubplot:>"
            ]
          },
          "metadata": {},
          "execution_count": 142
        },
        {
          "output_type": "display_data",
          "data": {
            "text/plain": [
              "<Figure size 432x288 with 1 Axes>"
            ],
            "image/png": "[encoded data removed]"
          },
          "metadata": {
            "needs_background": "light"
          }
        }
      ],
      "source": [
        "movies[\"decade\"] = movies[\"year\"] // 10 * 10\n",
        "hamlet_movies = movies[movies[\"title\"] ==  \"Hamlet\"]\n",
        "hamlet_movies_decade = hamlet_movies[\"decade\"].value_counts()\n",
        "hamlet_movies_decade.plot(kind=\"barh\")"
      ]
    },
    {
      "cell_type": "markdown",
      "metadata": {
        "id": "q9tEB0KVdLWW"
      },
      "source": [
        "### Section II - Q8: \n",
        "\n",
        "(A) How many leading roles were available to both actors and actresses, in the 1960s (1960-1969)?\n",
        "\n",
        "(B) How many leading roles were available to both actors and actresses, in the 2000s (2000-2009)?\n",
        "\n",
        "- Hint: A specific value of n might indicate a leading role"
      ]
    },
    {
      "cell_type": "code",
      "execution_count": 146,
      "metadata": {
        "id": "9gBfhXBmdLWX",
        "outputId": "0f223010-d5e8-4e01-80f0-29277e30f204",
        "colab": {
          "base_uri": "https://localhost:8080/"
        }
      },
      "outputs": [
        {
          "output_type": "execute_result",
          "data": {
            "text/plain": [
              "11823"
            ]
          },
          "metadata": {},
          "execution_count": 146
        }
      ],
      "source": [
        "len(cast[(cast[\"year\"] >= 1960) & (cast[\"year\"] < 1970) & (cast[\"n\"] == 1.0)])"
      ]
    },
    {
      "cell_type": "code",
      "execution_count": 147,
      "metadata": {
        "id": "oM24aw38dLWX",
        "outputId": "234d5249-6184-406c-df0a-c95ae94c46b6",
        "colab": {
          "base_uri": "https://localhost:8080/"
        }
      },
      "outputs": [
        {
          "output_type": "execute_result",
          "data": {
            "text/plain": [
              "26344"
            ]
          },
          "metadata": {},
          "execution_count": 147
        }
      ],
      "source": [
        "len(cast[(cast[\"year\"] >= 2000) & (cast[\"year\"] < 2010) & (cast[\"n\"] == 1.0)])"
      ]
    },
    {
      "cell_type": "markdown",
      "metadata": {
        "id": "sGbo9n9HdLWX"
      },
      "source": [
        "### Section II - Q9: List, in order by year, each of the films in which Frank Oz has played more than 1 role."
      ]
    },
    {
      "cell_type": "code",
      "execution_count": 153,
      "metadata": {
        "id": "7lTvxbTRdLWX",
        "outputId": "30898737-58bc-4208-95ff-ea8d98d08b5f",
        "colab": {
          "base_uri": "https://localhost:8080/",
          "height": 363
        }
      },
      "outputs": [
        {
          "output_type": "execute_result",
          "data": {
            "text/plain": [
              "                                        title  year      name   type  \\\n",
              "1723652                      The Muppet Movie  1979  Frank Oz  actor   \n",
              "1723598        An American Werewolf in London  1981  Frank Oz  actor   \n",
              "1723637                The Great Muppet Caper  1981  Frank Oz  actor   \n",
              "1723629                      The Dark Crystal  1982  Frank Oz  actor   \n",
              "1723659            The Muppets Take Manhattan  1984  Frank Oz  actor   \n",
              "1723601                      Follow That Bird  1985  Frank Oz  actor   \n",
              "1723643            The Muppet Christmas Carol  1992  Frank Oz  actor   \n",
              "1723611                Muppet Treasure Island  1996  Frank Oz  actor   \n",
              "1723626  The Adventures of Elmo in Grouchland  1999  Frank Oz  actor   \n",
              "1723612                    Muppets from Space  1999  Frank Oz  actor   \n",
              "\n",
              "                                       character     n  \n",
              "1723652                           Motorcycle Guy   2.0  \n",
              "1723598                              Mr. Collins  13.0  \n",
              "1723637                             Swedish Chef   2.0  \n",
              "1723629  Aughra, a Keeper Of Secrets (performer)   3.0  \n",
              "1723659                            Sam the Eagle   2.0  \n",
              "1723601                           Cookie Monster   3.0  \n",
              "1723643                Horse and Carriage Driver   5.0  \n",
              "1723611                                   Animal  14.0  \n",
              "1723626                                   Grover  16.0  \n",
              "1723612                               Miss Piggy   7.0  "
            ],
            "text/html": [
              "<div>\n",
              "<style scoped>\n",
              "    .dataframe tbody tr th:only-of-type {\n",
              "        vertical-align: middle;\n",
              "    }\n",
              "\n",
              "    .dataframe tbody tr th {\n",
              "        vertical-align: top;\n",
              "    }\n",
              "\n",
              "    .dataframe thead th {\n",
              "        text-align: right;\n",
              "    }\n",
              "</style>\n",
              "<table border=\"1\" class=\"dataframe\">\n",
              "  <thead>\n",
              "    <tr style=\"text-align: right;\">\n",
              "      <th></th>\n",
              "      <th>title</th>\n",
              "      <th>year</th>\n",
              "      <th>name</th>\n",
              "      <th>type</th>\n",
              "      <th>character</th>\n",
              "      <th>n</th>\n",
              "    </tr>\n",
              "  </thead>\n",
              "  <tbody>\n",
              "    <tr>\n",
              "      <th>1723652</th>\n",
              "      <td>The Muppet Movie</td>\n",
              "      <td>1979</td>\n",
              "      <td>Frank Oz</td>\n",
              "      <td>actor</td>\n",
              "      <td>Motorcycle Guy</td>\n",
              "      <td>2.0</td>\n",
              "    </tr>\n",
              "    <tr>\n",
              "      <th>1723598</th>\n",
              "      <td>An American Werewolf in London</td>\n",
              "      <td>1981</td>\n",
              "      <td>Frank Oz</td>\n",
              "      <td>actor</td>\n",
              "      <td>Mr. Collins</td>\n",
              "      <td>13.0</td>\n",
              "    </tr>\n",
              "    <tr>\n",
              "      <th>1723637</th>\n",
              "      <td>The Great Muppet Caper</td>\n",
              "      <td>1981</td>\n",
              "      <td>Frank Oz</td>\n",
              "      <td>actor</td>\n",
              "      <td>Swedish Chef</td>\n",
              "      <td>2.0</td>\n",
              "    </tr>\n",
              "    <tr>\n",
              "      <th>1723629</th>\n",
              "      <td>The Dark Crystal</td>\n",
              "      <td>1982</td>\n",
              "      <td>Frank Oz</td>\n",
              "      <td>actor</td>\n",
              "      <td>Aughra, a Keeper Of Secrets (performer)</td>\n",
              "      <td>3.0</td>\n",
              "    </tr>\n",
              "    <tr>\n",
              "      <th>1723659</th>\n",
              "      <td>The Muppets Take Manhattan</td>\n",
              "      <td>1984</td>\n",
              "      <td>Frank Oz</td>\n",
              "      <td>actor</td>\n",
              "      <td>Sam the Eagle</td>\n",
              "      <td>2.0</td>\n",
              "    </tr>\n",
              "    <tr>\n",
              "      <th>1723601</th>\n",
              "      <td>Follow That Bird</td>\n",
              "      <td>1985</td>\n",
              "      <td>Frank Oz</td>\n",
              "      <td>actor</td>\n",
              "      <td>Cookie Monster</td>\n",
              "      <td>3.0</td>\n",
              "    </tr>\n",
              "    <tr>\n",
              "      <th>1723643</th>\n",
              "      <td>The Muppet Christmas Carol</td>\n",
              "      <td>1992</td>\n",
              "      <td>Frank Oz</td>\n",
              "      <td>actor</td>\n",
              "      <td>Horse and Carriage Driver</td>\n",
              "      <td>5.0</td>\n",
              "    </tr>\n",
              "    <tr>\n",
              "      <th>1723611</th>\n",
              "      <td>Muppet Treasure Island</td>\n",
              "      <td>1996</td>\n",
              "      <td>Frank Oz</td>\n",
              "      <td>actor</td>\n",
              "      <td>Animal</td>\n",
              "      <td>14.0</td>\n",
              "    </tr>\n",
              "    <tr>\n",
              "      <th>1723626</th>\n",
              "      <td>The Adventures of Elmo in Grouchland</td>\n",
              "      <td>1999</td>\n",
              "      <td>Frank Oz</td>\n",
              "      <td>actor</td>\n",
              "      <td>Grover</td>\n",
              "      <td>16.0</td>\n",
              "    </tr>\n",
              "    <tr>\n",
              "      <th>1723612</th>\n",
              "      <td>Muppets from Space</td>\n",
              "      <td>1999</td>\n",
              "      <td>Frank Oz</td>\n",
              "      <td>actor</td>\n",
              "      <td>Miss Piggy</td>\n",
              "      <td>7.0</td>\n",
              "    </tr>\n",
              "  </tbody>\n",
              "</table>\n",
              "</div>"
            ]
          },
          "metadata": {},
          "execution_count": 153
        }
      ],
      "source": [
        "cast[cast[\"name\"] == \"Frank Oz\"].groupby(\"title\").filter(lambda x: len(x) > 1).sort_values(\"year\").drop_duplicates(\"title\")"
      ]
    },
    {
      "cell_type": "markdown",
      "metadata": {
        "id": "SObI7EZEdLWX"
      },
      "source": [
        "### Section II - Q10: List each of the characters that Frank Oz has portrayed at least twice"
      ]
    },
    {
      "cell_type": "code",
      "execution_count": 159,
      "metadata": {
        "id": "80mgPZQAdLWX",
        "outputId": "7549a98f-5c8a-40c9-f445-43fe648cf323",
        "colab": {
          "base_uri": "https://localhost:8080/"
        }
      },
      "outputs": [
        {
          "output_type": "stream",
          "name": "stdout",
          "text": [
            "['Miss Piggy' 'Cookie Monster' 'Bert' 'Grover' 'Fozzie Bear'\n",
            " 'Sam the Eagle' 'Animal' 'Yoda']\n"
          ]
        }
      ],
      "source": [
        "print(cast[cast[\"name\"] == \"Frank Oz\"].groupby(\"character\").filter(lambda x: len(x) >= 2)[\"character\"].unique())"
      ]
    },
    {
      "cell_type": "markdown",
      "metadata": {
        "id": "7BVGzoqmdLWX"
      },
      "source": [
        "# Section III - Advanced Merging, Querying and Visualizations"
      ]
    },
    {
      "cell_type": "markdown",
      "metadata": {
        "id": "ghIBDxAKdLWX"
      },
      "source": [
        "## Make a bar plot with the following conditions\n",
        "- Frequency of the number of movies with \"Christmas\" in their title \n",
        "- Movies should be such that they are released in the USA.\n",
        "- Show the frequency plot by month"
      ]
    },
    {
      "cell_type": "code",
      "execution_count": 160,
      "metadata": {
        "id": "2rhjj6d4dLWY",
        "outputId": "933eab4f-ae7f-44e7-d7e3-58409807a2a9",
        "colab": {
          "base_uri": "https://localhost:8080/",
          "height": 285
        }
      },
      "outputs": [
        {
          "output_type": "execute_result",
          "data": {
            "text/plain": [
              "<AxesSubplot:>"
            ]
          },
          "metadata": {},
          "execution_count": 160
        },
        {
          "output_type": "display_data",
          "data": {
            "text/plain": [
              "<Figure size 432x288 with 1 Axes>"
            ],
            "image/png": "[encoded data removed]"
          },
          "metadata": {
            "needs_background": "light"
          }
        }
      ],
      "source": [
        "christmas = release_dates[(release_dates.title.str.contains('Christmas')) & (release_dates.country == 'USA')]\n",
        "christmas.date.dt.month.value_counts().sort_index().plot(kind='bar')"
      ]
    },
    {
      "cell_type": "markdown",
      "metadata": {
        "id": "FEvbKBPpdLWY"
      },
      "source": [
        "### Section III - Q1: Make a bar plot with the following conditions\n",
        "- Frequency of the number of movies with \"Summer\" in their title \n",
        "- Movies should be such that they are released in the USA.\n",
        "- Show the frequency plot by month"
      ]
    },
    {
      "cell_type": "code",
      "execution_count": 163,
      "metadata": {
        "id": "Tat70rnPdLWY",
        "outputId": "c8323840-7214-4d17-f5de-7a70c6a73aba",
        "colab": {
          "base_uri": "https://localhost:8080/",
          "height": 285
        }
      },
      "outputs": [
        {
          "output_type": "execute_result",
          "data": {
            "text/plain": [
              "<AxesSubplot:>"
            ]
          },
          "metadata": {},
          "execution_count": 163
        },
        {
          "output_type": "display_data",
          "data": {
            "text/plain": [
              "<Figure size 432x288 with 1 Axes>"
            ],
            "image/png": "[encoded data removed]"
          },
          "metadata": {
            "needs_background": "light"
          }
        }
      ],
      "source": [
        "summer = release_dates[(release_dates[\"title\"].str.contains(\"Summer\")) & (release_dates[\"country\"] ==\"USA\")]\n",
        "release_dates[\"date\"].dt.month.value_counts().sort_index().plot(kind=\"bar\")"
      ]
    },
    {
      "cell_type": "markdown",
      "metadata": {
        "id": "4RGykvjXdLWY"
      },
      "source": [
        "### Section III - Q2: Make a bar plot with the following conditions\n",
        "- Frequency of the number of movies with \"Action\" in their title \n",
        "- Movies should be such that they are released in the USA.\n",
        "- Show the frequency plot by week"
      ]
    },
    {
      "cell_type": "code",
      "execution_count": 165,
      "metadata": {
        "id": "kfbCaIn4dLWY",
        "outputId": "2684e3a8-758e-467e-ac6f-2365c60a7541",
        "colab": {
          "base_uri": "https://localhost:8080/",
          "height": 285
        }
      },
      "outputs": [
        {
          "output_type": "execute_result",
          "data": {
            "text/plain": [
              "<AxesSubplot:>"
            ]
          },
          "metadata": {},
          "execution_count": 165
        },
        {
          "output_type": "display_data",
          "data": {
            "text/plain": [
              "<Figure size 432x288 with 1 Axes>"
            ],
            "image/png": "[encoded data removed]"
          },
          "metadata": {
            "needs_background": "light"
          }
        }
      ],
      "source": [
        "action = release_dates[(release_dates[\"title\"].str.contains(\"Action\")) & (release_dates[\"country\"] ==\"USA\")]\n",
        "release_dates[\"date\"].dt.isocalendar().week.value_counts().sort_index().plot(kind=\"bar\")"
      ]
    },
    {
      "cell_type": "markdown",
      "metadata": {
        "id": "XGRbsz-xdLWY"
      },
      "source": [
        "### Section III - Q3: Show all the movies in which Keanu Reeves has played the lead role along with their   release date in the USA sorted by the date of release\n",
        "- Hint: You might need to join or merge two datasets!"
      ]
    },
    {
      "cell_type": "code",
      "execution_count": 176,
      "metadata": {
        "id": "A1SfUQIrdLWZ",
        "outputId": "43a9c766-1fe5-4229-8b75-7eb2d803c9a9",
        "colab": {
          "base_uri": "https://localhost:8080/",
          "height": 865
        }
      },
      "outputs": [
        {
          "output_type": "execute_result",
          "data": {
            "text/plain": [
              "                               title       date\n",
              "14                             Speed 1922-10-22\n",
              "15                             Speed 1936-05-08\n",
              "18                    Sweet November 1968-02-08\n",
              "24                  The Night Before 1988-04-15\n",
              "3   Bill & Ted's Excellent Adventure 1989-02-17\n",
              "2         Bill & Ted's Bogus Journey 1991-07-19\n",
              "13                     Little Buddha 1994-05-25\n",
              "16                             Speed 1994-06-10\n",
              "10                   Johnny Mnemonic 1995-05-26\n",
              "1               A Walk in the Clouds 1995-08-11\n",
              "4                     Chain Reaction 1996-08-02\n",
              "6                  Feeling Minnesota 1996-09-13\n",
              "21              The Devil's Advocate 1997-10-17\n",
              "23                        The Matrix 1999-03-31\n",
              "25                  The Replacements 2000-08-11\n",
              "19                    Sweet November 2001-02-16\n",
              "7                          Hard Ball 2001-09-14\n",
              "5                        Constantine 2005-02-18\n",
              "22                    The Lake House 2006-06-16\n",
              "17                      Street Kings 2008-04-11\n",
              "20     The Day the Earth Stood Still 2008-12-12\n",
              "0                           47 Ronin 2013-12-25\n",
              "8                          John Wick 2014-10-24\n",
              "11                       Knock Knock 2015-10-09\n",
              "9               John Wick: Chapter 2 2017-02-10\n",
              "12                       Knock Knock 2017-10-06"
            ],
            "text/html": [
              "<div>\n",
              "<style scoped>\n",
              "    .dataframe tbody tr th:only-of-type {\n",
              "        vertical-align: middle;\n",
              "    }\n",
              "\n",
              "    .dataframe tbody tr th {\n",
              "        vertical-align: top;\n",
              "    }\n",
              "\n",
              "    .dataframe thead th {\n",
              "        text-align: right;\n",
              "    }\n",
              "</style>\n",
              "<table border=\"1\" class=\"dataframe\">\n",
              "  <thead>\n",
              "    <tr style=\"text-align: right;\">\n",
              "      <th></th>\n",
              "      <th>title</th>\n",
              "      <th>date</th>\n",
              "    </tr>\n",
              "  </thead>\n",
              "  <tbody>\n",
              "    <tr>\n",
              "      <th>14</th>\n",
              "      <td>Speed</td>\n",
              "      <td>1922-10-22</td>\n",
              "    </tr>\n",
              "    <tr>\n",
              "      <th>15</th>\n",
              "      <td>Speed</td>\n",
              "      <td>1936-05-08</td>\n",
              "    </tr>\n",
              "    <tr>\n",
              "      <th>18</th>\n",
              "      <td>Sweet November</td>\n",
              "      <td>1968-02-08</td>\n",
              "    </tr>\n",
              "    <tr>\n",
              "      <th>24</th>\n",
              "      <td>The Night Before</td>\n",
              "      <td>1988-04-15</td>\n",
              "    </tr>\n",
              "    <tr>\n",
              "      <th>3</th>\n",
              "      <td>Bill &amp; Ted's Excellent Adventure</td>\n",
              "      <td>1989-02-17</td>\n",
              "    </tr>\n",
              "    <tr>\n",
              "      <th>2</th>\n",
              "      <td>Bill &amp; Ted's Bogus Journey</td>\n",
              "      <td>1991-07-19</td>\n",
              "    </tr>\n",
              "    <tr>\n",
              "      <th>13</th>\n",
              "      <td>Little Buddha</td>\n",
              "      <td>1994-05-25</td>\n",
              "    </tr>\n",
              "    <tr>\n",
              "      <th>16</th>\n",
              "      <td>Speed</td>\n",
              "      <td>1994-06-10</td>\n",
              "    </tr>\n",
              "    <tr>\n",
              "      <th>10</th>\n",
              "      <td>Johnny Mnemonic</td>\n",
              "      <td>1995-05-26</td>\n",
              "    </tr>\n",
              "    <tr>\n",
              "      <th>1</th>\n",
              "      <td>A Walk in the Clouds</td>\n",
              "      <td>1995-08-11</td>\n",
              "    </tr>\n",
              "    <tr>\n",
              "      <th>4</th>\n",
              "      <td>Chain Reaction</td>\n",
              "      <td>1996-08-02</td>\n",
              "    </tr>\n",
              "    <tr>\n",
              "      <th>6</th>\n",
              "      <td>Feeling Minnesota</td>\n",
              "      <td>1996-09-13</td>\n",
              "    </tr>\n",
              "    <tr>\n",
              "      <th>21</th>\n",
              "      <td>The Devil's Advocate</td>\n",
              "      <td>1997-10-17</td>\n",
              "    </tr>\n",
              "    <tr>\n",
              "      <th>23</th>\n",
              "      <td>The Matrix</td>\n",
              "      <td>1999-03-31</td>\n",
              "    </tr>\n",
              "    <tr>\n",
              "      <th>25</th>\n",
              "      <td>The Replacements</td>\n",
              "      <td>2000-08-11</td>\n",
              "    </tr>\n",
              "    <tr>\n",
              "      <th>19</th>\n",
              "      <td>Sweet November</td>\n",
              "      <td>2001-02-16</td>\n",
              "    </tr>\n",
              "    <tr>\n",
              "      <th>7</th>\n",
              "      <td>Hard Ball</td>\n",
              "      <td>2001-09-14</td>\n",
              "    </tr>\n",
              "    <tr>\n",
              "      <th>5</th>\n",
              "      <td>Constantine</td>\n",
              "      <td>2005-02-18</td>\n",
              "    </tr>\n",
              "    <tr>\n",
              "      <th>22</th>\n",
              "      <td>The Lake House</td>\n",
              "      <td>2006-06-16</td>\n",
              "    </tr>\n",
              "    <tr>\n",
              "      <th>17</th>\n",
              "      <td>Street Kings</td>\n",
              "      <td>2008-04-11</td>\n",
              "    </tr>\n",
              "    <tr>\n",
              "      <th>20</th>\n",
              "      <td>The Day the Earth Stood Still</td>\n",
              "      <td>2008-12-12</td>\n",
              "    </tr>\n",
              "    <tr>\n",
              "      <th>0</th>\n",
              "      <td>47 Ronin</td>\n",
              "      <td>2013-12-25</td>\n",
              "    </tr>\n",
              "    <tr>\n",
              "      <th>8</th>\n",
              "      <td>John Wick</td>\n",
              "      <td>2014-10-24</td>\n",
              "    </tr>\n",
              "    <tr>\n",
              "      <th>11</th>\n",
              "      <td>Knock Knock</td>\n",
              "      <td>2015-10-09</td>\n",
              "    </tr>\n",
              "    <tr>\n",
              "      <th>9</th>\n",
              "      <td>John Wick: Chapter 2</td>\n",
              "      <td>2017-02-10</td>\n",
              "    </tr>\n",
              "    <tr>\n",
              "      <th>12</th>\n",
              "      <td>Knock Knock</td>\n",
              "      <td>2017-10-06</td>\n",
              "    </tr>\n",
              "  </tbody>\n",
              "</table>\n",
              "</div>"
            ]
          },
          "metadata": {},
          "execution_count": 176
        }
      ],
      "source": [
        "cast_keanu = cast[(cast[\"name\"] == \"Keanu Reeves\") & (cast[\"n\"] == 1.0)]\n",
        "release_dates_usa = release_dates[release_dates[\"country\"] == \"USA\"]\n",
        "cast_release_keanu = cast_keanu.merge(release_dates_usa, on=\"title\")\n",
        "cast_release_keanu.sort_values(\"date\")[[\"title\", \"date\"]]"
      ]
    },
    {
      "cell_type": "markdown",
      "metadata": {
        "id": "Trgy8bfgdLWZ"
      },
      "source": [
        "### Section III - Q4: Make a bar plot showing the months in which movies with Keanu Reeves tend to be released in the USA?"
      ]
    },
    {
      "cell_type": "code",
      "execution_count": 173,
      "metadata": {
        "id": "Arf94_D6dLWZ",
        "outputId": "19965e12-1d6a-4341-d4f4-ada7a3ad20ed",
        "colab": {
          "base_uri": "https://localhost:8080/",
          "height": 285
        }
      },
      "outputs": [
        {
          "output_type": "execute_result",
          "data": {
            "text/plain": [
              "<AxesSubplot:>"
            ]
          },
          "metadata": {},
          "execution_count": 173
        },
        {
          "output_type": "display_data",
          "data": {
            "text/plain": [
              "<Figure size 432x288 with 1 Axes>"
            ],
            "image/png": "[encoded data removed]"
          },
          "metadata": {
            "needs_background": "light"
          }
        }
      ],
      "source": [
        "cast_release_keanu[\"date\"].dt.month.value_counts().sort_index().plot(kind=\"bar\")"
      ]
    },
    {
      "cell_type": "markdown",
      "metadata": {
        "id": "8xgAOajddLWZ"
      },
      "source": [
        "### Section III - Q5: Make a bar plot showing the years in which movies with Ian McKellen tend to be released in the USA?"
      ]
    },
    {
      "cell_type": "code",
      "execution_count": 174,
      "metadata": {
        "id": "Q_utAU6TdLWZ",
        "outputId": "4960ea9c-a16a-4736-9a66-c5147b7f6f0e",
        "colab": {
          "base_uri": "https://localhost:8080/",
          "height": 298
        }
      },
      "outputs": [
        {
          "output_type": "execute_result",
          "data": {
            "text/plain": [
              "<AxesSubplot:>"
            ]
          },
          "metadata": {},
          "execution_count": 174
        },
        {
          "output_type": "display_data",
          "data": {
            "text/plain": [
              "<Figure size 432x288 with 1 Axes>"
            ],
            "image/png": "[encoded data removed]"
          },
          "metadata": {
            "needs_background": "light"
          }
        }
      ],
      "source": [
        "cast_ianmckellen = cast[(cast[\"name\"] == \"Ian McKellen\") & (cast[\"n\"] == 1.0)]\n",
        "cast_release_ianmckellen  = cast_ianmckellen.merge(release_dates_usa, on=\"title\")\n",
        "cast_release_ianmckellen[\"date\"].dt.year.value_counts().sort_index().plot(kind=\"bar\")"
      ]
    }
  ],
  "metadata": {
    "kernelspec": {
      "display_name": "Python 3",
      "language": "python",
      "name": "python3"
    },
    "language_info": {
      "codemirror_mode": {
        "name": "ipython",
        "version": 3
      },
      "file_extension": ".py",
      "mimetype": "text/x-python",
      "name": "python",
      "nbconvert_exporter": "python",
      "pygments_lexer": "ipython3",
      "version": "3.7.6-final"
    },
    "colab": {
      "name": "Mini_Project_Data_Wrangling_Pandas.ipynb",
      "provenance": [],
      "include_colab_link": true
    }
  },
  "nbformat": 4,
  "nbformat_minor": 0
}